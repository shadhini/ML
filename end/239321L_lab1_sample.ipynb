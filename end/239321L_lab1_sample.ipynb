{
  "cells": [
    {
      "cell_type": "code",
      "execution_count": 196,
      "id": "4aa3eb9a-dc92-4359-9c9e-c8df7b6091d6",
      "metadata": {
        "id": "4aa3eb9a-dc92-4359-9c9e-c8df7b6091d6"
      },
      "outputs": [],
      "source": [
        "import numpy as np\n",
        "import pandas as pd"
      ]
    },
    {
      "cell_type": "code",
      "execution_count": 197,
      "id": "ec9f62c8-5b76-4436-9338-acbc4d5584dc",
      "metadata": {
        "id": "ec9f62c8-5b76-4436-9338-acbc4d5584dc"
      },
      "outputs": [],
      "source": [
        "from sklearn.linear_model import LinearRegression\n",
        "from sklearn.metrics import mean_squared_error,r2_score"
      ]
    },
    {
      "cell_type": "code",
      "execution_count": 198,
      "id": "e49c26f4-249e-4026-9084-e173c09d9d0f",
      "metadata": {
        "colab": {
          "base_uri": "https://localhost:8080/"
        },
        "id": "e49c26f4-249e-4026-9084-e173c09d9d0f",
        "outputId": "be8a6b35-11b6-4862-c522-d15e79df5b61"
      },
      "outputs": [
        {
          "output_type": "stream",
          "name": "stdout",
          "text": [
            "Drive already mounted at /content/drive; to attempt to forcibly remount, call drive.mount(\"/content/drive\", force_remount=True).\n"
          ]
        }
      ],
      "source": [
        "from google.colab import drive\n",
        "drive.mount('/content/drive')"
      ]
    },
    {
      "cell_type": "code",
      "source": [
        "df_train = pd.read_csv('/content/drive/MyDrive/ColabNotebooks/UoM_ML/Lab01/train.csv')\n",
        "df_test = pd.read_csv('/content/drive/MyDrive/ColabNotebooks/UoM_ML/Lab01/test.csv')\n",
        "df_expected = pd.read_csv('/content/drive/MyDrive/ColabNotebooks/UoM_ML/Lab01/expected.csv')\n"
      ],
      "metadata": {
        "id": "T0zBPrFOq0CX"
      },
      "id": "T0zBPrFOq0CX",
      "execution_count": 199,
      "outputs": []
    },
    {
      "cell_type": "code",
      "source": [
        "df_train = df_train.fillna(np.nan)\n",
        "df_train.head()"
      ],
      "metadata": {
        "colab": {
          "base_uri": "https://localhost:8080/",
          "height": 270
        },
        "id": "vsUhfgMxv4fD",
        "outputId": "091c9f4f-9719-41b1-ca85-4f6a9e5fe484"
      },
      "id": "vsUhfgMxv4fD",
      "execution_count": 200,
      "outputs": [
        {
          "output_type": "execute_result",
          "data": {
            "text/plain": [
              "    x1    x2    x3    x4   x5     x6        x7    x8        x9   x10    x11  \\\n",
              "0  5.2  0.34  0.37  66.5  6.2  0.031  0.995369  42.0  0.511883  1.02  133.0   \n",
              "1  6.1  0.41  0.00  43.5  1.6  0.063  0.995691  36.0  0.514548  1.23   87.0   \n",
              "2  7.5  0.26  0.30  46.0  4.6  0.027  0.995414  29.0  0.498311  0.78   92.0   \n",
              "3  7.4  0.20  0.29  50.0  1.7  0.047  0.996208  16.0  0.515874  0.60  100.0   \n",
              "4  7.3  0.23  0.24  43.0  0.9  0.031  0.994616  29.0  0.462398  0.69   86.0   \n",
              "\n",
              "       x12   x13   x14   x15  y  \n",
              "0  0.99076  3.25  0.41  12.5  6  \n",
              "1  0.99140  3.27  0.67  10.8  6  \n",
              "2  0.99085  3.15  0.38  12.0  7  \n",
              "3  0.99243  3.28  0.45  10.6  6  \n",
              "4  0.98926  2.90  0.38  12.2  6  "
            ],
            "text/html": [
              "\n",
              "  <div id=\"df-a9759aea-9735-44a0-ad68-c7185bb0de06\">\n",
              "    <div class=\"colab-df-container\">\n",
              "      <div>\n",
              "<style scoped>\n",
              "    .dataframe tbody tr th:only-of-type {\n",
              "        vertical-align: middle;\n",
              "    }\n",
              "\n",
              "    .dataframe tbody tr th {\n",
              "        vertical-align: top;\n",
              "    }\n",
              "\n",
              "    .dataframe thead th {\n",
              "        text-align: right;\n",
              "    }\n",
              "</style>\n",
              "<table border=\"1\" class=\"dataframe\">\n",
              "  <thead>\n",
              "    <tr style=\"text-align: right;\">\n",
              "      <th></th>\n",
              "      <th>x1</th>\n",
              "      <th>x2</th>\n",
              "      <th>x3</th>\n",
              "      <th>x4</th>\n",
              "      <th>x5</th>\n",
              "      <th>x6</th>\n",
              "      <th>x7</th>\n",
              "      <th>x8</th>\n",
              "      <th>x9</th>\n",
              "      <th>x10</th>\n",
              "      <th>x11</th>\n",
              "      <th>x12</th>\n",
              "      <th>x13</th>\n",
              "      <th>x14</th>\n",
              "      <th>x15</th>\n",
              "      <th>y</th>\n",
              "    </tr>\n",
              "  </thead>\n",
              "  <tbody>\n",
              "    <tr>\n",
              "      <th>0</th>\n",
              "      <td>5.2</td>\n",
              "      <td>0.34</td>\n",
              "      <td>0.37</td>\n",
              "      <td>66.5</td>\n",
              "      <td>6.2</td>\n",
              "      <td>0.031</td>\n",
              "      <td>0.995369</td>\n",
              "      <td>42.0</td>\n",
              "      <td>0.511883</td>\n",
              "      <td>1.02</td>\n",
              "      <td>133.0</td>\n",
              "      <td>0.99076</td>\n",
              "      <td>3.25</td>\n",
              "      <td>0.41</td>\n",
              "      <td>12.5</td>\n",
              "      <td>6</td>\n",
              "    </tr>\n",
              "    <tr>\n",
              "      <th>1</th>\n",
              "      <td>6.1</td>\n",
              "      <td>0.41</td>\n",
              "      <td>0.00</td>\n",
              "      <td>43.5</td>\n",
              "      <td>1.6</td>\n",
              "      <td>0.063</td>\n",
              "      <td>0.995691</td>\n",
              "      <td>36.0</td>\n",
              "      <td>0.514548</td>\n",
              "      <td>1.23</td>\n",
              "      <td>87.0</td>\n",
              "      <td>0.99140</td>\n",
              "      <td>3.27</td>\n",
              "      <td>0.67</td>\n",
              "      <td>10.8</td>\n",
              "      <td>6</td>\n",
              "    </tr>\n",
              "    <tr>\n",
              "      <th>2</th>\n",
              "      <td>7.5</td>\n",
              "      <td>0.26</td>\n",
              "      <td>0.30</td>\n",
              "      <td>46.0</td>\n",
              "      <td>4.6</td>\n",
              "      <td>0.027</td>\n",
              "      <td>0.995414</td>\n",
              "      <td>29.0</td>\n",
              "      <td>0.498311</td>\n",
              "      <td>0.78</td>\n",
              "      <td>92.0</td>\n",
              "      <td>0.99085</td>\n",
              "      <td>3.15</td>\n",
              "      <td>0.38</td>\n",
              "      <td>12.0</td>\n",
              "      <td>7</td>\n",
              "    </tr>\n",
              "    <tr>\n",
              "      <th>3</th>\n",
              "      <td>7.4</td>\n",
              "      <td>0.20</td>\n",
              "      <td>0.29</td>\n",
              "      <td>50.0</td>\n",
              "      <td>1.7</td>\n",
              "      <td>0.047</td>\n",
              "      <td>0.996208</td>\n",
              "      <td>16.0</td>\n",
              "      <td>0.515874</td>\n",
              "      <td>0.60</td>\n",
              "      <td>100.0</td>\n",
              "      <td>0.99243</td>\n",
              "      <td>3.28</td>\n",
              "      <td>0.45</td>\n",
              "      <td>10.6</td>\n",
              "      <td>6</td>\n",
              "    </tr>\n",
              "    <tr>\n",
              "      <th>4</th>\n",
              "      <td>7.3</td>\n",
              "      <td>0.23</td>\n",
              "      <td>0.24</td>\n",
              "      <td>43.0</td>\n",
              "      <td>0.9</td>\n",
              "      <td>0.031</td>\n",
              "      <td>0.994616</td>\n",
              "      <td>29.0</td>\n",
              "      <td>0.462398</td>\n",
              "      <td>0.69</td>\n",
              "      <td>86.0</td>\n",
              "      <td>0.98926</td>\n",
              "      <td>2.90</td>\n",
              "      <td>0.38</td>\n",
              "      <td>12.2</td>\n",
              "      <td>6</td>\n",
              "    </tr>\n",
              "  </tbody>\n",
              "</table>\n",
              "</div>\n",
              "      <button class=\"colab-df-convert\" onclick=\"convertToInteractive('df-a9759aea-9735-44a0-ad68-c7185bb0de06')\"\n",
              "              title=\"Convert this dataframe to an interactive table.\"\n",
              "              style=\"display:none;\">\n",
              "        \n",
              "  <svg xmlns=\"http://www.w3.org/2000/svg\" height=\"24px\"viewBox=\"0 0 24 24\"\n",
              "       width=\"24px\">\n",
              "    <path d=\"M0 0h24v24H0V0z\" fill=\"none\"/>\n",
              "    <path d=\"M18.56 5.44l.94 2.06.94-2.06 2.06-.94-2.06-.94-.94-2.06-.94 2.06-2.06.94zm-11 1L8.5 8.5l.94-2.06 2.06-.94-2.06-.94L8.5 2.5l-.94 2.06-2.06.94zm10 10l.94 2.06.94-2.06 2.06-.94-2.06-.94-.94-2.06-.94 2.06-2.06.94z\"/><path d=\"M17.41 7.96l-1.37-1.37c-.4-.4-.92-.59-1.43-.59-.52 0-1.04.2-1.43.59L10.3 9.45l-7.72 7.72c-.78.78-.78 2.05 0 2.83L4 21.41c.39.39.9.59 1.41.59.51 0 1.02-.2 1.41-.59l7.78-7.78 2.81-2.81c.8-.78.8-2.07 0-2.86zM5.41 20L4 18.59l7.72-7.72 1.47 1.35L5.41 20z\"/>\n",
              "  </svg>\n",
              "      </button>\n",
              "      \n",
              "  <style>\n",
              "    .colab-df-container {\n",
              "      display:flex;\n",
              "      flex-wrap:wrap;\n",
              "      gap: 12px;\n",
              "    }\n",
              "\n",
              "    .colab-df-convert {\n",
              "      background-color: #E8F0FE;\n",
              "      border: none;\n",
              "      border-radius: 50%;\n",
              "      cursor: pointer;\n",
              "      display: none;\n",
              "      fill: #1967D2;\n",
              "      height: 32px;\n",
              "      padding: 0 0 0 0;\n",
              "      width: 32px;\n",
              "    }\n",
              "\n",
              "    .colab-df-convert:hover {\n",
              "      background-color: #E2EBFA;\n",
              "      box-shadow: 0px 1px 2px rgba(60, 64, 67, 0.3), 0px 1px 3px 1px rgba(60, 64, 67, 0.15);\n",
              "      fill: #174EA6;\n",
              "    }\n",
              "\n",
              "    [theme=dark] .colab-df-convert {\n",
              "      background-color: #3B4455;\n",
              "      fill: #D2E3FC;\n",
              "    }\n",
              "\n",
              "    [theme=dark] .colab-df-convert:hover {\n",
              "      background-color: #434B5C;\n",
              "      box-shadow: 0px 1px 3px 1px rgba(0, 0, 0, 0.15);\n",
              "      filter: drop-shadow(0px 1px 2px rgba(0, 0, 0, 0.3));\n",
              "      fill: #FFFFFF;\n",
              "    }\n",
              "  </style>\n",
              "\n",
              "      <script>\n",
              "        const buttonEl =\n",
              "          document.querySelector('#df-a9759aea-9735-44a0-ad68-c7185bb0de06 button.colab-df-convert');\n",
              "        buttonEl.style.display =\n",
              "          google.colab.kernel.accessAllowed ? 'block' : 'none';\n",
              "\n",
              "        async function convertToInteractive(key) {\n",
              "          const element = document.querySelector('#df-a9759aea-9735-44a0-ad68-c7185bb0de06');\n",
              "          const dataTable =\n",
              "            await google.colab.kernel.invokeFunction('convertToInteractive',\n",
              "                                                     [key], {});\n",
              "          if (!dataTable) return;\n",
              "\n",
              "          const docLinkHtml = 'Like what you see? Visit the ' +\n",
              "            '<a target=\"_blank\" href=https://colab.research.google.com/notebooks/data_table.ipynb>data table notebook</a>'\n",
              "            + ' to learn more about interactive tables.';\n",
              "          element.innerHTML = '';\n",
              "          dataTable['output_type'] = 'display_data';\n",
              "          await google.colab.output.renderOutput(dataTable, element);\n",
              "          const docLink = document.createElement('div');\n",
              "          docLink.innerHTML = docLinkHtml;\n",
              "          element.appendChild(docLink);\n",
              "        }\n",
              "      </script>\n",
              "    </div>\n",
              "  </div>\n",
              "  "
            ]
          },
          "metadata": {},
          "execution_count": 200
        }
      ]
    },
    {
      "cell_type": "code",
      "source": [
        "df_test = df_test.fillna(np.nan)\n",
        "df_test.head()"
      ],
      "metadata": {
        "colab": {
          "base_uri": "https://localhost:8080/",
          "height": 270
        },
        "id": "05Yx7JeXv7O9",
        "outputId": "2bf6c985-f680-44d6-e254-4bc9744338a1"
      },
      "id": "05Yx7JeXv7O9",
      "execution_count": 201,
      "outputs": [
        {
          "output_type": "execute_result",
          "data": {
            "text/plain": [
              "    x1    x2    x3    x4    x5     x6        x7    x8        x9   x10    x11  \\\n",
              "0  7.0  0.53  0.02  53.5   1.0  0.036  0.996494  39.0  0.505150  1.59  107.0   \n",
              "1  7.4  0.34  0.30  84.5  14.9  0.037  0.998489  70.0  0.511883  1.02  169.0   \n",
              "2  7.0  0.27  0.29  99.5   3.9  0.059  0.998048  28.0  0.549003  0.81  199.0   \n",
              "3  5.9  0.25  0.27  40.5   1.5  0.029  0.994585  37.0  0.505150  0.75   81.0   \n",
              "4  6.6  0.30  0.24  60.5   1.2  0.034  0.996644  17.0  0.495544  0.90  121.0   \n",
              "\n",
              "       x12   x13   x14   x15  \n",
              "0  0.99300  3.20  0.32   9.0  \n",
              "1  0.99698  3.25  0.37  10.4  \n",
              "2  0.99610  3.54  0.59  10.3  \n",
              "3  0.98920  3.20  0.46  12.2  \n",
              "4  0.99330  3.13  0.36   9.2  "
            ],
            "text/html": [
              "\n",
              "  <div id=\"df-397740d6-5c84-4077-a959-360300f7a58b\">\n",
              "    <div class=\"colab-df-container\">\n",
              "      <div>\n",
              "<style scoped>\n",
              "    .dataframe tbody tr th:only-of-type {\n",
              "        vertical-align: middle;\n",
              "    }\n",
              "\n",
              "    .dataframe tbody tr th {\n",
              "        vertical-align: top;\n",
              "    }\n",
              "\n",
              "    .dataframe thead th {\n",
              "        text-align: right;\n",
              "    }\n",
              "</style>\n",
              "<table border=\"1\" class=\"dataframe\">\n",
              "  <thead>\n",
              "    <tr style=\"text-align: right;\">\n",
              "      <th></th>\n",
              "      <th>x1</th>\n",
              "      <th>x2</th>\n",
              "      <th>x3</th>\n",
              "      <th>x4</th>\n",
              "      <th>x5</th>\n",
              "      <th>x6</th>\n",
              "      <th>x7</th>\n",
              "      <th>x8</th>\n",
              "      <th>x9</th>\n",
              "      <th>x10</th>\n",
              "      <th>x11</th>\n",
              "      <th>x12</th>\n",
              "      <th>x13</th>\n",
              "      <th>x14</th>\n",
              "      <th>x15</th>\n",
              "    </tr>\n",
              "  </thead>\n",
              "  <tbody>\n",
              "    <tr>\n",
              "      <th>0</th>\n",
              "      <td>7.0</td>\n",
              "      <td>0.53</td>\n",
              "      <td>0.02</td>\n",
              "      <td>53.5</td>\n",
              "      <td>1.0</td>\n",
              "      <td>0.036</td>\n",
              "      <td>0.996494</td>\n",
              "      <td>39.0</td>\n",
              "      <td>0.505150</td>\n",
              "      <td>1.59</td>\n",
              "      <td>107.0</td>\n",
              "      <td>0.99300</td>\n",
              "      <td>3.20</td>\n",
              "      <td>0.32</td>\n",
              "      <td>9.0</td>\n",
              "    </tr>\n",
              "    <tr>\n",
              "      <th>1</th>\n",
              "      <td>7.4</td>\n",
              "      <td>0.34</td>\n",
              "      <td>0.30</td>\n",
              "      <td>84.5</td>\n",
              "      <td>14.9</td>\n",
              "      <td>0.037</td>\n",
              "      <td>0.998489</td>\n",
              "      <td>70.0</td>\n",
              "      <td>0.511883</td>\n",
              "      <td>1.02</td>\n",
              "      <td>169.0</td>\n",
              "      <td>0.99698</td>\n",
              "      <td>3.25</td>\n",
              "      <td>0.37</td>\n",
              "      <td>10.4</td>\n",
              "    </tr>\n",
              "    <tr>\n",
              "      <th>2</th>\n",
              "      <td>7.0</td>\n",
              "      <td>0.27</td>\n",
              "      <td>0.29</td>\n",
              "      <td>99.5</td>\n",
              "      <td>3.9</td>\n",
              "      <td>0.059</td>\n",
              "      <td>0.998048</td>\n",
              "      <td>28.0</td>\n",
              "      <td>0.549003</td>\n",
              "      <td>0.81</td>\n",
              "      <td>199.0</td>\n",
              "      <td>0.99610</td>\n",
              "      <td>3.54</td>\n",
              "      <td>0.59</td>\n",
              "      <td>10.3</td>\n",
              "    </tr>\n",
              "    <tr>\n",
              "      <th>3</th>\n",
              "      <td>5.9</td>\n",
              "      <td>0.25</td>\n",
              "      <td>0.27</td>\n",
              "      <td>40.5</td>\n",
              "      <td>1.5</td>\n",
              "      <td>0.029</td>\n",
              "      <td>0.994585</td>\n",
              "      <td>37.0</td>\n",
              "      <td>0.505150</td>\n",
              "      <td>0.75</td>\n",
              "      <td>81.0</td>\n",
              "      <td>0.98920</td>\n",
              "      <td>3.20</td>\n",
              "      <td>0.46</td>\n",
              "      <td>12.2</td>\n",
              "    </tr>\n",
              "    <tr>\n",
              "      <th>4</th>\n",
              "      <td>6.6</td>\n",
              "      <td>0.30</td>\n",
              "      <td>0.24</td>\n",
              "      <td>60.5</td>\n",
              "      <td>1.2</td>\n",
              "      <td>0.034</td>\n",
              "      <td>0.996644</td>\n",
              "      <td>17.0</td>\n",
              "      <td>0.495544</td>\n",
              "      <td>0.90</td>\n",
              "      <td>121.0</td>\n",
              "      <td>0.99330</td>\n",
              "      <td>3.13</td>\n",
              "      <td>0.36</td>\n",
              "      <td>9.2</td>\n",
              "    </tr>\n",
              "  </tbody>\n",
              "</table>\n",
              "</div>\n",
              "      <button class=\"colab-df-convert\" onclick=\"convertToInteractive('df-397740d6-5c84-4077-a959-360300f7a58b')\"\n",
              "              title=\"Convert this dataframe to an interactive table.\"\n",
              "              style=\"display:none;\">\n",
              "        \n",
              "  <svg xmlns=\"http://www.w3.org/2000/svg\" height=\"24px\"viewBox=\"0 0 24 24\"\n",
              "       width=\"24px\">\n",
              "    <path d=\"M0 0h24v24H0V0z\" fill=\"none\"/>\n",
              "    <path d=\"M18.56 5.44l.94 2.06.94-2.06 2.06-.94-2.06-.94-.94-2.06-.94 2.06-2.06.94zm-11 1L8.5 8.5l.94-2.06 2.06-.94-2.06-.94L8.5 2.5l-.94 2.06-2.06.94zm10 10l.94 2.06.94-2.06 2.06-.94-2.06-.94-.94-2.06-.94 2.06-2.06.94z\"/><path d=\"M17.41 7.96l-1.37-1.37c-.4-.4-.92-.59-1.43-.59-.52 0-1.04.2-1.43.59L10.3 9.45l-7.72 7.72c-.78.78-.78 2.05 0 2.83L4 21.41c.39.39.9.59 1.41.59.51 0 1.02-.2 1.41-.59l7.78-7.78 2.81-2.81c.8-.78.8-2.07 0-2.86zM5.41 20L4 18.59l7.72-7.72 1.47 1.35L5.41 20z\"/>\n",
              "  </svg>\n",
              "      </button>\n",
              "      \n",
              "  <style>\n",
              "    .colab-df-container {\n",
              "      display:flex;\n",
              "      flex-wrap:wrap;\n",
              "      gap: 12px;\n",
              "    }\n",
              "\n",
              "    .colab-df-convert {\n",
              "      background-color: #E8F0FE;\n",
              "      border: none;\n",
              "      border-radius: 50%;\n",
              "      cursor: pointer;\n",
              "      display: none;\n",
              "      fill: #1967D2;\n",
              "      height: 32px;\n",
              "      padding: 0 0 0 0;\n",
              "      width: 32px;\n",
              "    }\n",
              "\n",
              "    .colab-df-convert:hover {\n",
              "      background-color: #E2EBFA;\n",
              "      box-shadow: 0px 1px 2px rgba(60, 64, 67, 0.3), 0px 1px 3px 1px rgba(60, 64, 67, 0.15);\n",
              "      fill: #174EA6;\n",
              "    }\n",
              "\n",
              "    [theme=dark] .colab-df-convert {\n",
              "      background-color: #3B4455;\n",
              "      fill: #D2E3FC;\n",
              "    }\n",
              "\n",
              "    [theme=dark] .colab-df-convert:hover {\n",
              "      background-color: #434B5C;\n",
              "      box-shadow: 0px 1px 3px 1px rgba(0, 0, 0, 0.15);\n",
              "      filter: drop-shadow(0px 1px 2px rgba(0, 0, 0, 0.3));\n",
              "      fill: #FFFFFF;\n",
              "    }\n",
              "  </style>\n",
              "\n",
              "      <script>\n",
              "        const buttonEl =\n",
              "          document.querySelector('#df-397740d6-5c84-4077-a959-360300f7a58b button.colab-df-convert');\n",
              "        buttonEl.style.display =\n",
              "          google.colab.kernel.accessAllowed ? 'block' : 'none';\n",
              "\n",
              "        async function convertToInteractive(key) {\n",
              "          const element = document.querySelector('#df-397740d6-5c84-4077-a959-360300f7a58b');\n",
              "          const dataTable =\n",
              "            await google.colab.kernel.invokeFunction('convertToInteractive',\n",
              "                                                     [key], {});\n",
              "          if (!dataTable) return;\n",
              "\n",
              "          const docLinkHtml = 'Like what you see? Visit the ' +\n",
              "            '<a target=\"_blank\" href=https://colab.research.google.com/notebooks/data_table.ipynb>data table notebook</a>'\n",
              "            + ' to learn more about interactive tables.';\n",
              "          element.innerHTML = '';\n",
              "          dataTable['output_type'] = 'display_data';\n",
              "          await google.colab.output.renderOutput(dataTable, element);\n",
              "          const docLink = document.createElement('div');\n",
              "          docLink.innerHTML = docLinkHtml;\n",
              "          element.appendChild(docLink);\n",
              "        }\n",
              "      </script>\n",
              "    </div>\n",
              "  </div>\n",
              "  "
            ]
          },
          "metadata": {},
          "execution_count": 201
        }
      ]
    },
    {
      "cell_type": "code",
      "source": [
        "df_expected.head()"
      ],
      "metadata": {
        "colab": {
          "base_uri": "https://localhost:8080/",
          "height": 206
        },
        "id": "ppRtXX9ev-ss",
        "outputId": "3f57848b-c81d-47d1-92db-a193c0fab497"
      },
      "id": "ppRtXX9ev-ss",
      "execution_count": 202,
      "outputs": [
        {
          "output_type": "execute_result",
          "data": {
            "text/plain": [
              "   y\n",
              "0  6\n",
              "1  6\n",
              "2  7\n",
              "3  6\n",
              "4  6"
            ],
            "text/html": [
              "\n",
              "  <div id=\"df-421a4632-ec1f-4a03-99b1-d147b9b35bfd\">\n",
              "    <div class=\"colab-df-container\">\n",
              "      <div>\n",
              "<style scoped>\n",
              "    .dataframe tbody tr th:only-of-type {\n",
              "        vertical-align: middle;\n",
              "    }\n",
              "\n",
              "    .dataframe tbody tr th {\n",
              "        vertical-align: top;\n",
              "    }\n",
              "\n",
              "    .dataframe thead th {\n",
              "        text-align: right;\n",
              "    }\n",
              "</style>\n",
              "<table border=\"1\" class=\"dataframe\">\n",
              "  <thead>\n",
              "    <tr style=\"text-align: right;\">\n",
              "      <th></th>\n",
              "      <th>y</th>\n",
              "    </tr>\n",
              "  </thead>\n",
              "  <tbody>\n",
              "    <tr>\n",
              "      <th>0</th>\n",
              "      <td>6</td>\n",
              "    </tr>\n",
              "    <tr>\n",
              "      <th>1</th>\n",
              "      <td>6</td>\n",
              "    </tr>\n",
              "    <tr>\n",
              "      <th>2</th>\n",
              "      <td>7</td>\n",
              "    </tr>\n",
              "    <tr>\n",
              "      <th>3</th>\n",
              "      <td>6</td>\n",
              "    </tr>\n",
              "    <tr>\n",
              "      <th>4</th>\n",
              "      <td>6</td>\n",
              "    </tr>\n",
              "  </tbody>\n",
              "</table>\n",
              "</div>\n",
              "      <button class=\"colab-df-convert\" onclick=\"convertToInteractive('df-421a4632-ec1f-4a03-99b1-d147b9b35bfd')\"\n",
              "              title=\"Convert this dataframe to an interactive table.\"\n",
              "              style=\"display:none;\">\n",
              "        \n",
              "  <svg xmlns=\"http://www.w3.org/2000/svg\" height=\"24px\"viewBox=\"0 0 24 24\"\n",
              "       width=\"24px\">\n",
              "    <path d=\"M0 0h24v24H0V0z\" fill=\"none\"/>\n",
              "    <path d=\"M18.56 5.44l.94 2.06.94-2.06 2.06-.94-2.06-.94-.94-2.06-.94 2.06-2.06.94zm-11 1L8.5 8.5l.94-2.06 2.06-.94-2.06-.94L8.5 2.5l-.94 2.06-2.06.94zm10 10l.94 2.06.94-2.06 2.06-.94-2.06-.94-.94-2.06-.94 2.06-2.06.94z\"/><path d=\"M17.41 7.96l-1.37-1.37c-.4-.4-.92-.59-1.43-.59-.52 0-1.04.2-1.43.59L10.3 9.45l-7.72 7.72c-.78.78-.78 2.05 0 2.83L4 21.41c.39.39.9.59 1.41.59.51 0 1.02-.2 1.41-.59l7.78-7.78 2.81-2.81c.8-.78.8-2.07 0-2.86zM5.41 20L4 18.59l7.72-7.72 1.47 1.35L5.41 20z\"/>\n",
              "  </svg>\n",
              "      </button>\n",
              "      \n",
              "  <style>\n",
              "    .colab-df-container {\n",
              "      display:flex;\n",
              "      flex-wrap:wrap;\n",
              "      gap: 12px;\n",
              "    }\n",
              "\n",
              "    .colab-df-convert {\n",
              "      background-color: #E8F0FE;\n",
              "      border: none;\n",
              "      border-radius: 50%;\n",
              "      cursor: pointer;\n",
              "      display: none;\n",
              "      fill: #1967D2;\n",
              "      height: 32px;\n",
              "      padding: 0 0 0 0;\n",
              "      width: 32px;\n",
              "    }\n",
              "\n",
              "    .colab-df-convert:hover {\n",
              "      background-color: #E2EBFA;\n",
              "      box-shadow: 0px 1px 2px rgba(60, 64, 67, 0.3), 0px 1px 3px 1px rgba(60, 64, 67, 0.15);\n",
              "      fill: #174EA6;\n",
              "    }\n",
              "\n",
              "    [theme=dark] .colab-df-convert {\n",
              "      background-color: #3B4455;\n",
              "      fill: #D2E3FC;\n",
              "    }\n",
              "\n",
              "    [theme=dark] .colab-df-convert:hover {\n",
              "      background-color: #434B5C;\n",
              "      box-shadow: 0px 1px 3px 1px rgba(0, 0, 0, 0.15);\n",
              "      filter: drop-shadow(0px 1px 2px rgba(0, 0, 0, 0.3));\n",
              "      fill: #FFFFFF;\n",
              "    }\n",
              "  </style>\n",
              "\n",
              "      <script>\n",
              "        const buttonEl =\n",
              "          document.querySelector('#df-421a4632-ec1f-4a03-99b1-d147b9b35bfd button.colab-df-convert');\n",
              "        buttonEl.style.display =\n",
              "          google.colab.kernel.accessAllowed ? 'block' : 'none';\n",
              "\n",
              "        async function convertToInteractive(key) {\n",
              "          const element = document.querySelector('#df-421a4632-ec1f-4a03-99b1-d147b9b35bfd');\n",
              "          const dataTable =\n",
              "            await google.colab.kernel.invokeFunction('convertToInteractive',\n",
              "                                                     [key], {});\n",
              "          if (!dataTable) return;\n",
              "\n",
              "          const docLinkHtml = 'Like what you see? Visit the ' +\n",
              "            '<a target=\"_blank\" href=https://colab.research.google.com/notebooks/data_table.ipynb>data table notebook</a>'\n",
              "            + ' to learn more about interactive tables.';\n",
              "          element.innerHTML = '';\n",
              "          dataTable['output_type'] = 'display_data';\n",
              "          await google.colab.output.renderOutput(dataTable, element);\n",
              "          const docLink = document.createElement('div');\n",
              "          docLink.innerHTML = docLinkHtml;\n",
              "          element.appendChild(docLink);\n",
              "        }\n",
              "      </script>\n",
              "    </div>\n",
              "  </div>\n",
              "  "
            ]
          },
          "metadata": {},
          "execution_count": 202
        }
      ]
    },
    {
      "cell_type": "markdown",
      "source": [
        "# Preprocessing"
      ],
      "metadata": {
        "id": "AbmBVlMzw-OV"
      },
      "id": "AbmBVlMzw-OV"
    },
    {
      "cell_type": "markdown",
      "source": [
        "### Filling missing values"
      ],
      "metadata": {
        "id": "vSPs7PggpuYL"
      },
      "id": "vSPs7PggpuYL"
    },
    {
      "cell_type": "code",
      "source": [
        "import matplotlib.pyplot as plt\n",
        "import seaborn as sns\n",
        "%matplotlib inline\n",
        "\n",
        "sns.heatmap(df_train.isnull(),yticklabels=False,cbar=False,cmap='viridis')"
      ],
      "metadata": {
        "colab": {
          "base_uri": "https://localhost:8080/",
          "height": 448
        },
        "id": "Q4c--Bt-w8Co",
        "outputId": "036d0347-3b7e-4cc9-eda6-3b4cddebed0a"
      },
      "id": "Q4c--Bt-w8Co",
      "execution_count": 203,
      "outputs": [
        {
          "output_type": "execute_result",
          "data": {
            "text/plain": [
              "<Axes: >"
            ]
          },
          "metadata": {},
          "execution_count": 203
        },
        {
          "output_type": "display_data",
          "data": {
            "text/plain": [
              "<Figure size 640x480 with 1 Axes>"
            ],
            "image/png": "[encoded data removed]"
          },
          "metadata": {}
        }
      ]
    },
    {
      "cell_type": "code",
      "source": [
        "sns.set_style('whitegrid')\n",
        "cntplot = sns.countplot(x='y',data=df_train)\n",
        "\n",
        "# Add count labels to the bars\n",
        "for p in cntplot.patches:\n",
        "    cntplot.annotate(format(p.get_height(), '.0f'), (p.get_x() + p.get_width() / 2., p.get_height()),\n",
        "                ha = 'center', va = 'center', xytext = (0, 5), textcoords = 'offset points')\n",
        "\n",
        "# Show the plot\n",
        "plt.show()"
      ],
      "metadata": {
        "colab": {
          "base_uri": "https://localhost:8080/",
          "height": 449
        },
        "id": "BHjcNa7B1ZcI",
        "outputId": "929e5f84-f832-405c-d56a-b92bdc2df5a2"
      },
      "id": "BHjcNa7B1ZcI",
      "execution_count": 204,
      "outputs": [
        {
          "output_type": "display_data",
          "data": {
            "text/plain": [
              "<Figure size 640x480 with 1 Axes>"
            ],
            "image/png": "[encoded data removed]"
          },
          "metadata": {}
        }
      ]
    },
    {
      "cell_type": "code",
      "source": [
        "plt.figure(figsize=(12, 7))\n",
        "ax = sns.boxplot(x='y',y='x15',data=df_train,palette='winter')\n",
        "# Calculate the median value\n",
        "median_val = df_train.groupby('y')['x15'].median()\n",
        "\n",
        "# Add labels to show the median value\n",
        "for i, median in enumerate(median_val):\n",
        "    ax.text(i, median, f'Median: {median}', horizontalalignment='center', verticalalignment='bottom', color='black')\n",
        "\n",
        "# Set the plot title and labels\n",
        "ax.set_title('Boxplot of x15 with respect to y')\n",
        "ax.set_xlabel('y')\n",
        "ax.set_ylabel('x15')"
      ],
      "metadata": {
        "colab": {
          "base_uri": "https://localhost:8080/",
          "height": 437
        },
        "id": "z20waZOr1rLv",
        "outputId": "cda7748c-1e3d-4f0a-c16c-aeffa7210e92"
      },
      "id": "z20waZOr1rLv",
      "execution_count": 205,
      "outputs": [
        {
          "output_type": "execute_result",
          "data": {
            "text/plain": [
              "Text(0, 0.5, 'x15')"
            ]
          },
          "metadata": {},
          "execution_count": 205
        },
        {
          "output_type": "display_data",
          "data": {
            "text/plain": [
              "<Figure size 1200x700 with 1 Axes>"
            ],
            "image/png": "[encoded data removed]"
          },
          "metadata": {}
        }
      ]
    },
    {
      "cell_type": "code",
      "source": [
        "def impute_x15(cols):\n",
        "    x15 = cols[0]\n",
        "    y = cols[1]\n",
        "    \n",
        "    if pd.isnull(x15):\n",
        "        if y == 3:\n",
        "            return 9.95 # median x15 for y=3 by box plot\n",
        "        elif y == 4:\n",
        "            return 10.0 # median x15 for y=4 by box plot\n",
        "        elif y == 5:\n",
        "            return 9.6 # median x15 for y=5 by box plot\n",
        "        elif y == 6:\n",
        "            return 10.5 # median x15 for y=6 by box plot\n",
        "        elif y == 7:\n",
        "            return 11.4 # median x15 for y=7 by box plot\n",
        "        elif y == 8:\n",
        "            return 12.0 # median x15 for y=8 by box plot\n",
        "        else:\n",
        "            return 12.5 # median x15 for y=9 by box plot\n",
        "    else:\n",
        "        return x15"
      ],
      "metadata": {
        "id": "AtPsG_i17b9r"
      },
      "id": "AtPsG_i17b9r",
      "execution_count": 206,
      "outputs": []
    },
    {
      "cell_type": "code",
      "source": [
        "df_train['x15'] = df_train[['x15','y']].apply(impute_x15,axis=1)"
      ],
      "metadata": {
        "id": "88EsQJ1jCM4P"
      },
      "id": "88EsQJ1jCM4P",
      "execution_count": 207,
      "outputs": []
    },
    {
      "cell_type": "code",
      "source": [
        "sns.heatmap(df_test.isnull(),yticklabels=False,cbar=False,cmap='viridis')"
      ],
      "metadata": {
        "colab": {
          "base_uri": "https://localhost:8080/",
          "height": 448
        },
        "id": "nQ8cLkWRXaJd",
        "outputId": "389148da-15d6-4859-dde5-203f9bb19e59"
      },
      "id": "nQ8cLkWRXaJd",
      "execution_count": 208,
      "outputs": [
        {
          "output_type": "execute_result",
          "data": {
            "text/plain": [
              "<Axes: >"
            ]
          },
          "metadata": {},
          "execution_count": 208
        },
        {
          "output_type": "display_data",
          "data": {
            "text/plain": [
              "<Figure size 640x480 with 1 Axes>"
            ],
            "image/png": "[encoded data removed]"
          },
          "metadata": {}
        }
      ]
    },
    {
      "cell_type": "code",
      "source": [
        "df_test_concatenated = pd.concat([df_test, df_expected], axis=1)\n",
        "\n",
        "plt.figure(figsize=(12, 7))\n",
        "ax = sns.boxplot(x='y',y='x15',data=df_test_concatenated,palette='winter')\n",
        "# Calculate the median value\n",
        "median_val = df_test_concatenated.groupby('y')['x15'].median()\n",
        "\n",
        "# Add labels to show the median value\n",
        "for i, median in enumerate(median_val):\n",
        "    ax.text(i, median, f'Median: {median}', horizontalalignment='center', verticalalignment='bottom', color='black')\n",
        "\n",
        "# Set the plot title and labels\n",
        "ax.set_title('Boxplot of x15 with respect to y')\n",
        "ax.set_xlabel('y')\n",
        "ax.set_ylabel('x15')"
      ],
      "metadata": {
        "colab": {
          "base_uri": "https://localhost:8080/",
          "height": 437
        },
        "id": "IXdnOzVHYY0M",
        "outputId": "f2ce5e31-0af8-4a5d-c09f-777612574f88"
      },
      "id": "IXdnOzVHYY0M",
      "execution_count": 209,
      "outputs": [
        {
          "output_type": "execute_result",
          "data": {
            "text/plain": [
              "Text(0, 0.5, 'x15')"
            ]
          },
          "metadata": {},
          "execution_count": 209
        },
        {
          "output_type": "display_data",
          "data": {
            "text/plain": [
              "<Figure size 1200x700 with 1 Axes>"
            ],
            "image/png": "[encoded data removed]"
          },
          "metadata": {}
        }
      ]
    },
    {
      "cell_type": "code",
      "source": [
        "def impute_x15_test_dataset(cols):\n",
        "    x15 = cols[0]\n",
        "    y = cols[1]\n",
        "    \n",
        "    if pd.isnull(x15):\n",
        "        if y == 3:\n",
        "            return 10.5 # median x15 for y=3 by box plot\n",
        "        elif y == 4:\n",
        "            return 10.2 # median x15 for y=4 by box plot\n",
        "        elif y == 5:\n",
        "            return 10.3 # median x15 for y=5 by box plot\n",
        "        elif y == 6:\n",
        "            return 10.3 # median x15 for y=6 by box plot\n",
        "        elif y == 7:\n",
        "            return 10.5 # median x15 for y=7 by box plot\n",
        "        elif y == 8:\n",
        "            return 10.4 # median x15 for y=8 by box plot\n",
        "        else:\n",
        "            return 10.4 # median x15 for y=9 by box plot\n",
        "    else:\n",
        "        return x15"
      ],
      "metadata": {
        "id": "UwcPIQ1fY1to"
      },
      "id": "UwcPIQ1fY1to",
      "execution_count": 210,
      "outputs": []
    },
    {
      "cell_type": "code",
      "source": [
        "df_test_concatenated['x15'] = df_test_concatenated[['x15','y']].apply(impute_x15_test_dataset,axis=1)"
      ],
      "metadata": {
        "id": "hqPmLwUgZT57"
      },
      "id": "hqPmLwUgZT57",
      "execution_count": 211,
      "outputs": []
    },
    {
      "cell_type": "code",
      "source": [
        "features_to_be_filled = ['x1', 'x2', 'x3', 'x4', 'x5', 'x6', 'x7', 'x8', 'x9', 'x10', 'x11', 'x12', 'x13', 'x14']\n",
        "\n",
        "def fill_nan_by_category_mean(data, categorical_column, nan_columns):\n",
        "    for column in nan_columns:\n",
        "        category_means = data.groupby(categorical_column)[column].transform('mean')\n",
        "        data[column].fillna(category_means, inplace=True)\n",
        "    return data\n",
        "\n",
        "# Call the function to fill NaN values by category mean\n",
        "filled_train_data = fill_nan_by_category_mean(df_train, 'y', features_to_be_filled)"
      ],
      "metadata": {
        "id": "M_NVFbETIfOJ"
      },
      "id": "M_NVFbETIfOJ",
      "execution_count": 212,
      "outputs": []
    },
    {
      "cell_type": "code",
      "source": [
        "sns.heatmap(filled_train_data.isnull(),yticklabels=False,cbar=False,cmap='viridis')"
      ],
      "metadata": {
        "colab": {
          "base_uri": "https://localhost:8080/",
          "height": 448
        },
        "id": "NwFr6RvHHd3D",
        "outputId": "a4297967-fe44-4b46-afcd-e755f7e04753"
      },
      "id": "NwFr6RvHHd3D",
      "execution_count": 213,
      "outputs": [
        {
          "output_type": "execute_result",
          "data": {
            "text/plain": [
              "<Axes: >"
            ]
          },
          "metadata": {},
          "execution_count": 213
        },
        {
          "output_type": "display_data",
          "data": {
            "text/plain": [
              "<Figure size 640x480 with 1 Axes>"
            ],
            "image/png": "[encoded data removed]"
          },
          "metadata": {}
        }
      ]
    },
    {
      "cell_type": "code",
      "source": [
        "# Call the function to fill NaN values by category mean\n",
        "filled_test_data = fill_nan_by_category_mean(df_test_concatenated, 'y', features_to_be_filled)"
      ],
      "metadata": {
        "id": "hUGAQpzpYEfM"
      },
      "id": "hUGAQpzpYEfM",
      "execution_count": 214,
      "outputs": []
    },
    {
      "cell_type": "code",
      "source": [
        "sns.heatmap(filled_test_data.isnull(),yticklabels=False,cbar=False,cmap='viridis')"
      ],
      "metadata": {
        "colab": {
          "base_uri": "https://localhost:8080/",
          "height": 448
        },
        "id": "XzdoM2S3av2s",
        "outputId": "57cccd51-b602-4fc0-ef8a-a4f6da8e25e0"
      },
      "id": "XzdoM2S3av2s",
      "execution_count": 215,
      "outputs": [
        {
          "output_type": "execute_result",
          "data": {
            "text/plain": [
              "<Axes: >"
            ]
          },
          "metadata": {},
          "execution_count": 215
        },
        {
          "output_type": "display_data",
          "data": {
            "text/plain": [
              "<Figure size 640x480 with 1 Axes>"
            ],
            "image/png": "[encoded data removed]"
          },
          "metadata": {}
        }
      ]
    },
    {
      "cell_type": "code",
      "source": [
        "# df1_x = df1.drop(columns=[\"y\"])\n",
        "# df1_y = df1[\"y\"]"
      ],
      "metadata": {
        "id": "7l7wz4aHwHP1"
      },
      "id": "7l7wz4aHwHP1",
      "execution_count": 216,
      "outputs": []
    },
    {
      "cell_type": "code",
      "source": [
        "X_train = filled_train_data.drop(columns=[\"y\"])\n",
        "X_train.head()"
      ],
      "metadata": {
        "colab": {
          "base_uri": "https://localhost:8080/",
          "height": 270
        },
        "id": "kIOaaJf3uLhQ",
        "outputId": "eef364d9-7141-46ca-8f23-85fcd8e027d7"
      },
      "id": "kIOaaJf3uLhQ",
      "execution_count": 217,
      "outputs": [
        {
          "output_type": "execute_result",
          "data": {
            "text/plain": [
              "    x1    x2    x3    x4   x5     x6        x7    x8        x9   x10    x11  \\\n",
              "0  5.2  0.34  0.37  66.5  6.2  0.031  0.995369  42.0  0.511883  1.02  133.0   \n",
              "1  6.1  0.41  0.00  43.5  1.6  0.063  0.995691  36.0  0.514548  1.23   87.0   \n",
              "2  7.5  0.26  0.30  46.0  4.6  0.027  0.995414  29.0  0.498311  0.78   92.0   \n",
              "3  7.4  0.20  0.29  50.0  1.7  0.047  0.996208  16.0  0.515874  0.60  100.0   \n",
              "4  7.3  0.23  0.24  43.0  0.9  0.031  0.994616  29.0  0.462398  0.69   86.0   \n",
              "\n",
              "       x12   x13   x14   x15  \n",
              "0  0.99076  3.25  0.41  12.5  \n",
              "1  0.99140  3.27  0.67  10.8  \n",
              "2  0.99085  3.15  0.38  12.0  \n",
              "3  0.99243  3.28  0.45  10.6  \n",
              "4  0.98926  2.90  0.38  12.2  "
            ],
            "text/html": [
              "\n",
              "  <div id=\"df-55f3b92a-3658-4d32-b154-a013b9f2b538\">\n",
              "    <div class=\"colab-df-container\">\n",
              "      <div>\n",
              "<style scoped>\n",
              "    .dataframe tbody tr th:only-of-type {\n",
              "        vertical-align: middle;\n",
              "    }\n",
              "\n",
              "    .dataframe tbody tr th {\n",
              "        vertical-align: top;\n",
              "    }\n",
              "\n",
              "    .dataframe thead th {\n",
              "        text-align: right;\n",
              "    }\n",
              "</style>\n",
              "<table border=\"1\" class=\"dataframe\">\n",
              "  <thead>\n",
              "    <tr style=\"text-align: right;\">\n",
              "      <th></th>\n",
              "      <th>x1</th>\n",
              "      <th>x2</th>\n",
              "      <th>x3</th>\n",
              "      <th>x4</th>\n",
              "      <th>x5</th>\n",
              "      <th>x6</th>\n",
              "      <th>x7</th>\n",
              "      <th>x8</th>\n",
              "      <th>x9</th>\n",
              "      <th>x10</th>\n",
              "      <th>x11</th>\n",
              "      <th>x12</th>\n",
              "      <th>x13</th>\n",
              "      <th>x14</th>\n",
              "      <th>x15</th>\n",
              "    </tr>\n",
              "  </thead>\n",
              "  <tbody>\n",
              "    <tr>\n",
              "      <th>0</th>\n",
              "      <td>5.2</td>\n",
              "      <td>0.34</td>\n",
              "      <td>0.37</td>\n",
              "      <td>66.5</td>\n",
              "      <td>6.2</td>\n",
              "      <td>0.031</td>\n",
              "      <td>0.995369</td>\n",
              "      <td>42.0</td>\n",
              "      <td>0.511883</td>\n",
              "      <td>1.02</td>\n",
              "      <td>133.0</td>\n",
              "      <td>0.99076</td>\n",
              "      <td>3.25</td>\n",
              "      <td>0.41</td>\n",
              "      <td>12.5</td>\n",
              "    </tr>\n",
              "    <tr>\n",
              "      <th>1</th>\n",
              "      <td>6.1</td>\n",
              "      <td>0.41</td>\n",
              "      <td>0.00</td>\n",
              "      <td>43.5</td>\n",
              "      <td>1.6</td>\n",
              "      <td>0.063</td>\n",
              "      <td>0.995691</td>\n",
              "      <td>36.0</td>\n",
              "      <td>0.514548</td>\n",
              "      <td>1.23</td>\n",
              "      <td>87.0</td>\n",
              "      <td>0.99140</td>\n",
              "      <td>3.27</td>\n",
              "      <td>0.67</td>\n",
              "      <td>10.8</td>\n",
              "    </tr>\n",
              "    <tr>\n",
              "      <th>2</th>\n",
              "      <td>7.5</td>\n",
              "      <td>0.26</td>\n",
              "      <td>0.30</td>\n",
              "      <td>46.0</td>\n",
              "      <td>4.6</td>\n",
              "      <td>0.027</td>\n",
              "      <td>0.995414</td>\n",
              "      <td>29.0</td>\n",
              "      <td>0.498311</td>\n",
              "      <td>0.78</td>\n",
              "      <td>92.0</td>\n",
              "      <td>0.99085</td>\n",
              "      <td>3.15</td>\n",
              "      <td>0.38</td>\n",
              "      <td>12.0</td>\n",
              "    </tr>\n",
              "    <tr>\n",
              "      <th>3</th>\n",
              "      <td>7.4</td>\n",
              "      <td>0.20</td>\n",
              "      <td>0.29</td>\n",
              "      <td>50.0</td>\n",
              "      <td>1.7</td>\n",
              "      <td>0.047</td>\n",
              "      <td>0.996208</td>\n",
              "      <td>16.0</td>\n",
              "      <td>0.515874</td>\n",
              "      <td>0.60</td>\n",
              "      <td>100.0</td>\n",
              "      <td>0.99243</td>\n",
              "      <td>3.28</td>\n",
              "      <td>0.45</td>\n",
              "      <td>10.6</td>\n",
              "    </tr>\n",
              "    <tr>\n",
              "      <th>4</th>\n",
              "      <td>7.3</td>\n",
              "      <td>0.23</td>\n",
              "      <td>0.24</td>\n",
              "      <td>43.0</td>\n",
              "      <td>0.9</td>\n",
              "      <td>0.031</td>\n",
              "      <td>0.994616</td>\n",
              "      <td>29.0</td>\n",
              "      <td>0.462398</td>\n",
              "      <td>0.69</td>\n",
              "      <td>86.0</td>\n",
              "      <td>0.98926</td>\n",
              "      <td>2.90</td>\n",
              "      <td>0.38</td>\n",
              "      <td>12.2</td>\n",
              "    </tr>\n",
              "  </tbody>\n",
              "</table>\n",
              "</div>\n",
              "      <button class=\"colab-df-convert\" onclick=\"convertToInteractive('df-55f3b92a-3658-4d32-b154-a013b9f2b538')\"\n",
              "              title=\"Convert this dataframe to an interactive table.\"\n",
              "              style=\"display:none;\">\n",
              "        \n",
              "  <svg xmlns=\"http://www.w3.org/2000/svg\" height=\"24px\"viewBox=\"0 0 24 24\"\n",
              "       width=\"24px\">\n",
              "    <path d=\"M0 0h24v24H0V0z\" fill=\"none\"/>\n",
              "    <path d=\"M18.56 5.44l.94 2.06.94-2.06 2.06-.94-2.06-.94-.94-2.06-.94 2.06-2.06.94zm-11 1L8.5 8.5l.94-2.06 2.06-.94-2.06-.94L8.5 2.5l-.94 2.06-2.06.94zm10 10l.94 2.06.94-2.06 2.06-.94-2.06-.94-.94-2.06-.94 2.06-2.06.94z\"/><path d=\"M17.41 7.96l-1.37-1.37c-.4-.4-.92-.59-1.43-.59-.52 0-1.04.2-1.43.59L10.3 9.45l-7.72 7.72c-.78.78-.78 2.05 0 2.83L4 21.41c.39.39.9.59 1.41.59.51 0 1.02-.2 1.41-.59l7.78-7.78 2.81-2.81c.8-.78.8-2.07 0-2.86zM5.41 20L4 18.59l7.72-7.72 1.47 1.35L5.41 20z\"/>\n",
              "  </svg>\n",
              "      </button>\n",
              "      \n",
              "  <style>\n",
              "    .colab-df-container {\n",
              "      display:flex;\n",
              "      flex-wrap:wrap;\n",
              "      gap: 12px;\n",
              "    }\n",
              "\n",
              "    .colab-df-convert {\n",
              "      background-color: #E8F0FE;\n",
              "      border: none;\n",
              "      border-radius: 50%;\n",
              "      cursor: pointer;\n",
              "      display: none;\n",
              "      fill: #1967D2;\n",
              "      height: 32px;\n",
              "      padding: 0 0 0 0;\n",
              "      width: 32px;\n",
              "    }\n",
              "\n",
              "    .colab-df-convert:hover {\n",
              "      background-color: #E2EBFA;\n",
              "      box-shadow: 0px 1px 2px rgba(60, 64, 67, 0.3), 0px 1px 3px 1px rgba(60, 64, 67, 0.15);\n",
              "      fill: #174EA6;\n",
              "    }\n",
              "\n",
              "    [theme=dark] .colab-df-convert {\n",
              "      background-color: #3B4455;\n",
              "      fill: #D2E3FC;\n",
              "    }\n",
              "\n",
              "    [theme=dark] .colab-df-convert:hover {\n",
              "      background-color: #434B5C;\n",
              "      box-shadow: 0px 1px 3px 1px rgba(0, 0, 0, 0.15);\n",
              "      filter: drop-shadow(0px 1px 2px rgba(0, 0, 0, 0.3));\n",
              "      fill: #FFFFFF;\n",
              "    }\n",
              "  </style>\n",
              "\n",
              "      <script>\n",
              "        const buttonEl =\n",
              "          document.querySelector('#df-55f3b92a-3658-4d32-b154-a013b9f2b538 button.colab-df-convert');\n",
              "        buttonEl.style.display =\n",
              "          google.colab.kernel.accessAllowed ? 'block' : 'none';\n",
              "\n",
              "        async function convertToInteractive(key) {\n",
              "          const element = document.querySelector('#df-55f3b92a-3658-4d32-b154-a013b9f2b538');\n",
              "          const dataTable =\n",
              "            await google.colab.kernel.invokeFunction('convertToInteractive',\n",
              "                                                     [key], {});\n",
              "          if (!dataTable) return;\n",
              "\n",
              "          const docLinkHtml = 'Like what you see? Visit the ' +\n",
              "            '<a target=\"_blank\" href=https://colab.research.google.com/notebooks/data_table.ipynb>data table notebook</a>'\n",
              "            + ' to learn more about interactive tables.';\n",
              "          element.innerHTML = '';\n",
              "          dataTable['output_type'] = 'display_data';\n",
              "          await google.colab.output.renderOutput(dataTable, element);\n",
              "          const docLink = document.createElement('div');\n",
              "          docLink.innerHTML = docLinkHtml;\n",
              "          element.appendChild(docLink);\n",
              "        }\n",
              "      </script>\n",
              "    </div>\n",
              "  </div>\n",
              "  "
            ]
          },
          "metadata": {},
          "execution_count": 217
        }
      ]
    },
    {
      "cell_type": "code",
      "source": [
        "Y_train = filled_train_data[\"y\"]\n",
        "Y_train.head()"
      ],
      "metadata": {
        "colab": {
          "base_uri": "https://localhost:8080/"
        },
        "id": "UoPIbJwLul0e",
        "outputId": "8fb73ca7-2062-4116-f144-e390ddca9576"
      },
      "id": "UoPIbJwLul0e",
      "execution_count": 218,
      "outputs": [
        {
          "output_type": "execute_result",
          "data": {
            "text/plain": [
              "0    6\n",
              "1    6\n",
              "2    7\n",
              "3    6\n",
              "4    6\n",
              "Name: y, dtype: int64"
            ]
          },
          "metadata": {},
          "execution_count": 218
        }
      ]
    },
    {
      "cell_type": "code",
      "execution_count": 219,
      "id": "0a288e49-8bde-4077-b076-a4982e022396",
      "metadata": {
        "id": "0a288e49-8bde-4077-b076-a4982e022396"
      },
      "outputs": [],
      "source": [
        "# df2_x = df2\n",
        "# df2_y = df3[\"y\"]"
      ]
    },
    {
      "cell_type": "code",
      "source": [
        "X_test = filled_test_data.drop(columns=[\"y\"])\n",
        "X_test.head()"
      ],
      "metadata": {
        "colab": {
          "base_uri": "https://localhost:8080/",
          "height": 270
        },
        "id": "qLP786JKwMbE",
        "outputId": "d2ba515c-7247-4679-d464-50217f92ecb4"
      },
      "id": "qLP786JKwMbE",
      "execution_count": 220,
      "outputs": [
        {
          "output_type": "execute_result",
          "data": {
            "text/plain": [
              "    x1    x2    x3    x4    x5     x6        x7    x8        x9   x10    x11  \\\n",
              "0  7.0  0.53  0.02  53.5   1.0  0.036  0.996494  39.0  0.505150  1.59  107.0   \n",
              "1  7.4  0.34  0.30  84.5  14.9  0.037  0.998489  70.0  0.511883  1.02  169.0   \n",
              "2  7.0  0.27  0.29  99.5   3.9  0.059  0.998048  28.0  0.549003  0.81  199.0   \n",
              "3  5.9  0.25  0.27  40.5   1.5  0.029  0.994585  37.0  0.505150  0.75   81.0   \n",
              "4  6.6  0.30  0.24  60.5   1.2  0.034  0.996644  17.0  0.495544  0.90  121.0   \n",
              "\n",
              "       x12   x13   x14   x15  \n",
              "0  0.99300  3.20  0.32   9.0  \n",
              "1  0.99698  3.25  0.37  10.4  \n",
              "2  0.99610  3.54  0.59  10.3  \n",
              "3  0.98920  3.20  0.46  12.2  \n",
              "4  0.99330  3.13  0.36   9.2  "
            ],
            "text/html": [
              "\n",
              "  <div id=\"df-03e57ada-38d8-41af-a42d-4144eb916bfa\">\n",
              "    <div class=\"colab-df-container\">\n",
              "      <div>\n",
              "<style scoped>\n",
              "    .dataframe tbody tr th:only-of-type {\n",
              "        vertical-align: middle;\n",
              "    }\n",
              "\n",
              "    .dataframe tbody tr th {\n",
              "        vertical-align: top;\n",
              "    }\n",
              "\n",
              "    .dataframe thead th {\n",
              "        text-align: right;\n",
              "    }\n",
              "</style>\n",
              "<table border=\"1\" class=\"dataframe\">\n",
              "  <thead>\n",
              "    <tr style=\"text-align: right;\">\n",
              "      <th></th>\n",
              "      <th>x1</th>\n",
              "      <th>x2</th>\n",
              "      <th>x3</th>\n",
              "      <th>x4</th>\n",
              "      <th>x5</th>\n",
              "      <th>x6</th>\n",
              "      <th>x7</th>\n",
              "      <th>x8</th>\n",
              "      <th>x9</th>\n",
              "      <th>x10</th>\n",
              "      <th>x11</th>\n",
              "      <th>x12</th>\n",
              "      <th>x13</th>\n",
              "      <th>x14</th>\n",
              "      <th>x15</th>\n",
              "    </tr>\n",
              "  </thead>\n",
              "  <tbody>\n",
              "    <tr>\n",
              "      <th>0</th>\n",
              "      <td>7.0</td>\n",
              "      <td>0.53</td>\n",
              "      <td>0.02</td>\n",
              "      <td>53.5</td>\n",
              "      <td>1.0</td>\n",
              "      <td>0.036</td>\n",
              "      <td>0.996494</td>\n",
              "      <td>39.0</td>\n",
              "      <td>0.505150</td>\n",
              "      <td>1.59</td>\n",
              "      <td>107.0</td>\n",
              "      <td>0.99300</td>\n",
              "      <td>3.20</td>\n",
              "      <td>0.32</td>\n",
              "      <td>9.0</td>\n",
              "    </tr>\n",
              "    <tr>\n",
              "      <th>1</th>\n",
              "      <td>7.4</td>\n",
              "      <td>0.34</td>\n",
              "      <td>0.30</td>\n",
              "      <td>84.5</td>\n",
              "      <td>14.9</td>\n",
              "      <td>0.037</td>\n",
              "      <td>0.998489</td>\n",
              "      <td>70.0</td>\n",
              "      <td>0.511883</td>\n",
              "      <td>1.02</td>\n",
              "      <td>169.0</td>\n",
              "      <td>0.99698</td>\n",
              "      <td>3.25</td>\n",
              "      <td>0.37</td>\n",
              "      <td>10.4</td>\n",
              "    </tr>\n",
              "    <tr>\n",
              "      <th>2</th>\n",
              "      <td>7.0</td>\n",
              "      <td>0.27</td>\n",
              "      <td>0.29</td>\n",
              "      <td>99.5</td>\n",
              "      <td>3.9</td>\n",
              "      <td>0.059</td>\n",
              "      <td>0.998048</td>\n",
              "      <td>28.0</td>\n",
              "      <td>0.549003</td>\n",
              "      <td>0.81</td>\n",
              "      <td>199.0</td>\n",
              "      <td>0.99610</td>\n",
              "      <td>3.54</td>\n",
              "      <td>0.59</td>\n",
              "      <td>10.3</td>\n",
              "    </tr>\n",
              "    <tr>\n",
              "      <th>3</th>\n",
              "      <td>5.9</td>\n",
              "      <td>0.25</td>\n",
              "      <td>0.27</td>\n",
              "      <td>40.5</td>\n",
              "      <td>1.5</td>\n",
              "      <td>0.029</td>\n",
              "      <td>0.994585</td>\n",
              "      <td>37.0</td>\n",
              "      <td>0.505150</td>\n",
              "      <td>0.75</td>\n",
              "      <td>81.0</td>\n",
              "      <td>0.98920</td>\n",
              "      <td>3.20</td>\n",
              "      <td>0.46</td>\n",
              "      <td>12.2</td>\n",
              "    </tr>\n",
              "    <tr>\n",
              "      <th>4</th>\n",
              "      <td>6.6</td>\n",
              "      <td>0.30</td>\n",
              "      <td>0.24</td>\n",
              "      <td>60.5</td>\n",
              "      <td>1.2</td>\n",
              "      <td>0.034</td>\n",
              "      <td>0.996644</td>\n",
              "      <td>17.0</td>\n",
              "      <td>0.495544</td>\n",
              "      <td>0.90</td>\n",
              "      <td>121.0</td>\n",
              "      <td>0.99330</td>\n",
              "      <td>3.13</td>\n",
              "      <td>0.36</td>\n",
              "      <td>9.2</td>\n",
              "    </tr>\n",
              "  </tbody>\n",
              "</table>\n",
              "</div>\n",
              "      <button class=\"colab-df-convert\" onclick=\"convertToInteractive('df-03e57ada-38d8-41af-a42d-4144eb916bfa')\"\n",
              "              title=\"Convert this dataframe to an interactive table.\"\n",
              "              style=\"display:none;\">\n",
              "        \n",
              "  <svg xmlns=\"http://www.w3.org/2000/svg\" height=\"24px\"viewBox=\"0 0 24 24\"\n",
              "       width=\"24px\">\n",
              "    <path d=\"M0 0h24v24H0V0z\" fill=\"none\"/>\n",
              "    <path d=\"M18.56 5.44l.94 2.06.94-2.06 2.06-.94-2.06-.94-.94-2.06-.94 2.06-2.06.94zm-11 1L8.5 8.5l.94-2.06 2.06-.94-2.06-.94L8.5 2.5l-.94 2.06-2.06.94zm10 10l.94 2.06.94-2.06 2.06-.94-2.06-.94-.94-2.06-.94 2.06-2.06.94z\"/><path d=\"M17.41 7.96l-1.37-1.37c-.4-.4-.92-.59-1.43-.59-.52 0-1.04.2-1.43.59L10.3 9.45l-7.72 7.72c-.78.78-.78 2.05 0 2.83L4 21.41c.39.39.9.59 1.41.59.51 0 1.02-.2 1.41-.59l7.78-7.78 2.81-2.81c.8-.78.8-2.07 0-2.86zM5.41 20L4 18.59l7.72-7.72 1.47 1.35L5.41 20z\"/>\n",
              "  </svg>\n",
              "      </button>\n",
              "      \n",
              "  <style>\n",
              "    .colab-df-container {\n",
              "      display:flex;\n",
              "      flex-wrap:wrap;\n",
              "      gap: 12px;\n",
              "    }\n",
              "\n",
              "    .colab-df-convert {\n",
              "      background-color: #E8F0FE;\n",
              "      border: none;\n",
              "      border-radius: 50%;\n",
              "      cursor: pointer;\n",
              "      display: none;\n",
              "      fill: #1967D2;\n",
              "      height: 32px;\n",
              "      padding: 0 0 0 0;\n",
              "      width: 32px;\n",
              "    }\n",
              "\n",
              "    .colab-df-convert:hover {\n",
              "      background-color: #E2EBFA;\n",
              "      box-shadow: 0px 1px 2px rgba(60, 64, 67, 0.3), 0px 1px 3px 1px rgba(60, 64, 67, 0.15);\n",
              "      fill: #174EA6;\n",
              "    }\n",
              "\n",
              "    [theme=dark] .colab-df-convert {\n",
              "      background-color: #3B4455;\n",
              "      fill: #D2E3FC;\n",
              "    }\n",
              "\n",
              "    [theme=dark] .colab-df-convert:hover {\n",
              "      background-color: #434B5C;\n",
              "      box-shadow: 0px 1px 3px 1px rgba(0, 0, 0, 0.15);\n",
              "      filter: drop-shadow(0px 1px 2px rgba(0, 0, 0, 0.3));\n",
              "      fill: #FFFFFF;\n",
              "    }\n",
              "  </style>\n",
              "\n",
              "      <script>\n",
              "        const buttonEl =\n",
              "          document.querySelector('#df-03e57ada-38d8-41af-a42d-4144eb916bfa button.colab-df-convert');\n",
              "        buttonEl.style.display =\n",
              "          google.colab.kernel.accessAllowed ? 'block' : 'none';\n",
              "\n",
              "        async function convertToInteractive(key) {\n",
              "          const element = document.querySelector('#df-03e57ada-38d8-41af-a42d-4144eb916bfa');\n",
              "          const dataTable =\n",
              "            await google.colab.kernel.invokeFunction('convertToInteractive',\n",
              "                                                     [key], {});\n",
              "          if (!dataTable) return;\n",
              "\n",
              "          const docLinkHtml = 'Like what you see? Visit the ' +\n",
              "            '<a target=\"_blank\" href=https://colab.research.google.com/notebooks/data_table.ipynb>data table notebook</a>'\n",
              "            + ' to learn more about interactive tables.';\n",
              "          element.innerHTML = '';\n",
              "          dataTable['output_type'] = 'display_data';\n",
              "          await google.colab.output.renderOutput(dataTable, element);\n",
              "          const docLink = document.createElement('div');\n",
              "          docLink.innerHTML = docLinkHtml;\n",
              "          element.appendChild(docLink);\n",
              "        }\n",
              "      </script>\n",
              "    </div>\n",
              "  </div>\n",
              "  "
            ]
          },
          "metadata": {},
          "execution_count": 220
        }
      ]
    },
    {
      "cell_type": "code",
      "source": [
        "Y_test = filled_test_data[\"y\"]\n",
        "Y_test.head()"
      ],
      "metadata": {
        "colab": {
          "base_uri": "https://localhost:8080/"
        },
        "id": "hjv7ubWxwZhX",
        "outputId": "05635008-6e41-4152-e4f1-48734ff2c811"
      },
      "id": "hjv7ubWxwZhX",
      "execution_count": 221,
      "outputs": [
        {
          "output_type": "execute_result",
          "data": {
            "text/plain": [
              "0    6\n",
              "1    6\n",
              "2    7\n",
              "3    6\n",
              "4    6\n",
              "Name: y, dtype: int64"
            ]
          },
          "metadata": {},
          "execution_count": 221
        }
      ]
    },
    {
      "cell_type": "markdown",
      "source": [
        "### Resampling to fix Imbalanced Dataset"
      ],
      "metadata": {
        "id": "OSFKH7EyOkUM"
      },
      "id": "OSFKH7EyOkUM"
    },
    {
      "cell_type": "code",
      "source": [
        "sns.set_style('whitegrid')\n",
        "cntplot = sns.countplot(x='y',data=filled_train_data)\n",
        "\n",
        "# Add count labels to the bars\n",
        "for p in cntplot.patches:\n",
        "    cntplot.annotate(format(p.get_height(), '.0f'), (p.get_x() + p.get_width() / 2., p.get_height()),\n",
        "                ha = 'center', va = 'center', xytext = (0, 5), textcoords = 'offset points')\n",
        "\n",
        "# Show the plot\n",
        "plt.show()"
      ],
      "metadata": {
        "colab": {
          "base_uri": "https://localhost:8080/",
          "height": 449
        },
        "id": "X3i1tD_URSjz",
        "outputId": "aae6173d-1004-4392-90ce-e5f29550bc6d"
      },
      "id": "X3i1tD_URSjz",
      "execution_count": 222,
      "outputs": [
        {
          "output_type": "display_data",
          "data": {
            "text/plain": [
              "<Figure size 640x480 with 1 Axes>"
            ],
            "image/png": "[encoded data removed]"
          },
          "metadata": {}
        }
      ]
    },
    {
      "cell_type": "code",
      "source": [
        "sns.heatmap(X_train.isnull(),yticklabels=False,cbar=False,cmap='viridis')"
      ],
      "metadata": {
        "colab": {
          "base_uri": "https://localhost:8080/",
          "height": 448
        },
        "id": "Nt3gF-snc-Dh",
        "outputId": "ae5b141c-00cc-41ae-c234-e37ee1dc0fd6"
      },
      "id": "Nt3gF-snc-Dh",
      "execution_count": 223,
      "outputs": [
        {
          "output_type": "execute_result",
          "data": {
            "text/plain": [
              "<Axes: >"
            ]
          },
          "metadata": {},
          "execution_count": 223
        },
        {
          "output_type": "display_data",
          "data": {
            "text/plain": [
              "<Figure size 640x480 with 1 Axes>"
            ],
            "image/png": "[encoded data removed]"
          },
          "metadata": {}
        }
      ]
    },
    {
      "cell_type": "code",
      "source": [
        "from imblearn.over_sampling import SMOTE\n",
        "import pandas as pd\n",
        "\n",
        "# Instantiate the SMOTE\n",
        "smote = SMOTE(random_state=42, sampling_strategy = {3: 300, 4: 450, 8: 450, 9: 300}, k_neighbors=4)\n",
        "\n",
        "# Resample the subset of features using SMOTE\n",
        "X_train_resampled, Y_train_resampled = smote.fit_resample(X_train, Y_train)\n"
      ],
      "metadata": {
        "id": "hHTxGg8vNgDa"
      },
      "id": "hHTxGg8vNgDa",
      "execution_count": 224,
      "outputs": []
    },
    {
      "cell_type": "code",
      "source": [
        "resampled_trained = pd.concat([X_train_resampled, Y_train_resampled], axis=1)\n",
        "count = len(resampled_trained[resampled_trained['y'] == 9])\n",
        "count"
      ],
      "metadata": {
        "colab": {
          "base_uri": "https://localhost:8080/"
        },
        "id": "rCseQUA3JNWv",
        "outputId": "2a15be74-069a-4612-c6c9-8728bd87919b"
      },
      "id": "rCseQUA3JNWv",
      "execution_count": 225,
      "outputs": [
        {
          "output_type": "execute_result",
          "data": {
            "text/plain": [
              "300"
            ]
          },
          "metadata": {},
          "execution_count": 225
        }
      ]
    },
    {
      "cell_type": "code",
      "source": [
        "resampled_trained.shape\n",
        "sns.set_style('whitegrid')\n",
        "cntplot = sns.countplot(x='y',data=resampled_trained)\n",
        "\n",
        "# Add count labels to the bars\n",
        "for p in cntplot.patches:\n",
        "    cntplot.annotate(format(p.get_height(), '.0f'), (p.get_x() + p.get_width() / 2., p.get_height()),\n",
        "                ha = 'center', va = 'center', xytext = (0, 5), textcoords = 'offset points')\n",
        "\n",
        "# Show the plot\n",
        "plt.show()"
      ],
      "metadata": {
        "colab": {
          "base_uri": "https://localhost:8080/",
          "height": 449
        },
        "id": "2LjkKxDgT9xL",
        "outputId": "de692a21-7f25-42c9-c916-6b26d23a6582"
      },
      "id": "2LjkKxDgT9xL",
      "execution_count": 226,
      "outputs": [
        {
          "output_type": "display_data",
          "data": {
            "text/plain": [
              "<Figure size 640x480 with 1 Axes>"
            ],
            "image/png": "[encoded data removed]"
          },
          "metadata": {}
        }
      ]
    },
    {
      "cell_type": "code",
      "source": [
        "from imblearn.under_sampling import RandomUnderSampler\n",
        "\n",
        "# Instantiate the RandomUnderSampler\n",
        "rus = RandomUnderSampler(random_state=42, sampling_strategy = {5: 800, 6: 800})\n",
        "\n",
        "# Resample the data\n",
        "X_train_resampled, Y_train_resampled = rus.fit_resample(X_train_resampled, Y_train_resampled)"
      ],
      "metadata": {
        "id": "mNjUKpgSTRwU"
      },
      "id": "mNjUKpgSTRwU",
      "execution_count": 227,
      "outputs": []
    },
    {
      "cell_type": "code",
      "source": [
        "resampled_trained = pd.concat([X_train_resampled, Y_train_resampled], axis=1)\n",
        "sns.set_style('whitegrid')\n",
        "cntplot = sns.countplot(x='y',data=resampled_trained)\n",
        "\n",
        "# Add count labels to the bars\n",
        "for p in cntplot.patches:\n",
        "    cntplot.annotate(format(p.get_height(), '.0f'), (p.get_x() + p.get_width() / 2., p.get_height()),\n",
        "                ha = 'center', va = 'center', xytext = (0, 5), textcoords = 'offset points')\n",
        "\n",
        "# Show the plot\n",
        "plt.show()"
      ],
      "metadata": {
        "colab": {
          "base_uri": "https://localhost:8080/",
          "height": 449
        },
        "id": "dZyF29DnUhrv",
        "outputId": "f1afb320-c1a6-4c25-9cb2-313fee58e597"
      },
      "id": "dZyF29DnUhrv",
      "execution_count": 228,
      "outputs": [
        {
          "output_type": "display_data",
          "data": {
            "text/plain": [
              "<Figure size 640x480 with 1 Axes>"
            ],
            "image/png": "[encoded data removed]"
          },
          "metadata": {}
        }
      ]
    },
    {
      "cell_type": "code",
      "source": [
        "from sklearn.preprocessing import Normalizer\n",
        "scaler = Normalizer()\n",
        "X_train_normalized = scaler.fit_transform(X_train) #the scaler is fitted to the training set and then transformed\n",
        "X_test_normalized = scaler.transform(X_test) \n",
        "scaler2 = Normalizer()\n",
        "X_train_normalized_resampled = scaler2.fit_transform(X_train_resampled) #the scaler is fitted to the training set and then transformed\n",
        "X_test_normalized_resampled = scaler2.transform(X_test) "
      ],
      "metadata": {
        "id": "EVSpsRYSyjNZ"
      },
      "id": "EVSpsRYSyjNZ",
      "execution_count": 229,
      "outputs": []
    },
    {
      "cell_type": "code",
      "source": [
        "from sklearn.decomposition import PCA\n",
        "\n",
        "pca = PCA(n_components=10)\n",
        "X_train_pca = pca.fit_transform(X_train_normalized)\n",
        "X_test_pca = pca.transform(X_test_normalized)\n",
        "X_train_pca[:5]"
      ],
      "metadata": {
        "colab": {
          "base_uri": "https://localhost:8080/"
        },
        "id": "Dw9OC5zizEFj",
        "outputId": "d809bf03-bc91-467e-ec52-882879719537"
      },
      "id": "Dw9OC5zizEFj",
      "execution_count": 230,
      "outputs": [
        {
          "output_type": "execute_result",
          "data": {
            "text/plain": [
              "array([[ 5.11133772e-02, -1.60272446e-03, -1.02508043e-03,\n",
              "        -1.41554966e-03,  1.35783379e-02, -6.09678450e-03,\n",
              "        -5.83372901e-05, -1.18797563e-03, -2.37829430e-04,\n",
              "         8.50780783e-04],\n",
              "       [ 1.27846200e-01,  3.43462238e-02, -2.78337001e-02,\n",
              "        -8.19937667e-04,  2.20175789e-03,  1.02035801e-04,\n",
              "         5.80195952e-03,  9.61694060e-04,  1.04610245e-03,\n",
              "        -2.81177239e-03],\n",
              "       [ 4.85857433e-02,  4.37431067e-02, -1.84829992e-03,\n",
              "        -2.03173519e-03, -3.28678437e-03, -7.98381925e-03,\n",
              "        -8.85184473e-04, -2.32922668e-03, -1.02998911e-03,\n",
              "        -2.07948717e-04],\n",
              "       [-8.22023467e-02,  1.99119913e-02, -2.71196727e-02,\n",
              "        -1.03547813e-04, -6.24801253e-03, -7.67736294e-04,\n",
              "        -1.11483373e-03,  1.75091191e-03, -6.80760764e-04,\n",
              "        -4.51882193e-04],\n",
              "       [ 6.62631233e-02,  5.02346818e-02, -3.62643367e-02,\n",
              "        -1.62812567e-03, -2.66247478e-03, -6.17800026e-03,\n",
              "        -2.44474852e-03, -4.16821369e-03, -1.13410047e-03,\n",
              "        -8.58598790e-04]])"
            ]
          },
          "metadata": {},
          "execution_count": 230
        }
      ]
    },
    {
      "cell_type": "markdown",
      "source": [
        "# Training the Model"
      ],
      "metadata": {
        "id": "miB3PJYBqi5R"
      },
      "id": "miB3PJYBqi5R"
    },
    {
      "cell_type": "markdown",
      "source": [
        "### KNN Classifier"
      ],
      "metadata": {
        "id": "FQRVWSd7rLnf"
      },
      "id": "FQRVWSd7rLnf"
    },
    {
      "cell_type": "code",
      "source": [
        "# Fitting clasifier to the Training set\n",
        "# Loading libraries\n",
        "from sklearn.neighbors import KNeighborsClassifier\n",
        "from sklearn.metrics import  accuracy_score\n",
        "\n",
        "\n",
        "# Instantiate learning model (k = 3)\n",
        "knn_classifier = KNeighborsClassifier(n_neighbors=3)\n",
        "\n",
        "# Fitting the model\n",
        "knn_classifier.fit(X_train_normalized_resampled, Y_train_resampled)\n",
        "\n",
        "# Predicting the Test set results\n",
        "y_pred = knn_classifier.predict(X_test_normalized_resampled)\n",
        "\n",
        "accuracy = accuracy_score(Y_test, y_pred)*100\n",
        "print('Accuracy of the kNN classifier is equal ' + str(round(accuracy, 2)) + ' %.')"
      ],
      "metadata": {
        "colab": {
          "base_uri": "https://localhost:8080/"
        },
        "id": "TNWsTORAzbQ_",
        "outputId": "a488ba05-d44d-4fa4-c290-20599e6973b5"
      },
      "id": "TNWsTORAzbQ_",
      "execution_count": 231,
      "outputs": [
        {
          "output_type": "stream",
          "name": "stdout",
          "text": [
            "Accuracy of the kNN classifier is equal 26.03 %.\n"
          ]
        }
      ]
    },
    {
      "cell_type": "code",
      "source": [
        "knn_classifier.fit(X_train_normalized, Y_train)\n",
        "\n",
        "# Predicting the Test set results\n",
        "y_pred = knn_classifier.predict(X_test_normalized)\n",
        "\n",
        "accuracy = accuracy_score(Y_test, y_pred)*100\n",
        "print('Accuracy of the kNN classifier is equal ' + str(round(accuracy, 2)) + ' %.')\n"
      ],
      "metadata": {
        "colab": {
          "base_uri": "https://localhost:8080/"
        },
        "id": "1lqBHNpI12_Q",
        "outputId": "d941f97a-da9d-4872-b6e7-1913b9988266"
      },
      "id": "1lqBHNpI12_Q",
      "execution_count": 232,
      "outputs": [
        {
          "output_type": "stream",
          "name": "stdout",
          "text": [
            "Accuracy of the kNN classifier is equal 34.29 %.\n"
          ]
        }
      ]
    },
    {
      "cell_type": "code",
      "source": [
        "knn_classifier.fit(X_train, Y_train)\n",
        "\n",
        "# Predicting the Test set results\n",
        "y_pred = knn_classifier.predict(X_test)\n",
        "\n",
        "accuracy = accuracy_score(Y_test, y_pred)*100\n",
        "print('Accuracy of the kNN classifier is equal ' + str(round(accuracy, 2)) + ' %.')"
      ],
      "metadata": {
        "colab": {
          "base_uri": "https://localhost:8080/"
        },
        "id": "Q33bMYpv7cbH",
        "outputId": "c8a16715-8297-4686-ce6d-762dc45a639a"
      },
      "id": "Q33bMYpv7cbH",
      "execution_count": 233,
      "outputs": [
        {
          "output_type": "stream",
          "name": "stdout",
          "text": [
            "Accuracy of the kNN classifier is equal 34.11 %.\n"
          ]
        }
      ]
    },
    {
      "cell_type": "code",
      "source": [
        "from sklearn.model_selection import cross_val_score\n",
        "\n",
        "# creating list of K for KNN\n",
        "k_list = list(range(1,20))\n",
        "# creating list of cv scores\n",
        "cv_scores = []\n",
        "\n",
        "# perform 10-fold cross validation\n",
        "for k in k_list:\n",
        "    knn = KNeighborsClassifier(n_neighbors=k)\n",
        "    scores = cross_val_score(knn, X_train_normalized, Y_train, cv=10, scoring='accuracy')\n",
        "    cv_scores.append(scores.mean())\n",
        "\n",
        "# changing to misclassification error\n",
        "MSE = [1 - x for x in cv_scores]\n",
        "\n",
        "plt.figure()\n",
        "plt.figure(figsize=(15,10))\n",
        "plt.title('The optimal number of neighbors', fontsize=20, fontweight='bold')\n",
        "plt.xlabel('Number of Neighbors K', fontsize=15)\n",
        "plt.ylabel('Misclassification Error', fontsize=15)\n",
        "sns.set_style(\"whitegrid\")\n",
        "plt.plot(k_list, MSE)\n",
        "\n",
        "plt.show()"
      ],
      "metadata": {
        "colab": {
          "base_uri": "https://localhost:8080/",
          "height": 1000
        },
        "id": "xL7Nk4mK1Hnm",
        "outputId": "cd84bd1a-a86d-4665-dc62-c0ac9e38bfc4"
      },
      "id": "xL7Nk4mK1Hnm",
      "execution_count": 234,
      "outputs": [
        {
          "output_type": "stream",
          "name": "stderr",
          "text": [
            "/usr/local/lib/python3.10/dist-packages/sklearn/model_selection/_split.py:700: UserWarning: The least populated class in y has only 5 members, which is less than n_splits=10.\n",
            "  warnings.warn(\n",
            "/usr/local/lib/python3.10/dist-packages/sklearn/model_selection/_split.py:700: UserWarning: The least populated class in y has only 5 members, which is less than n_splits=10.\n",
            "  warnings.warn(\n",
            "/usr/local/lib/python3.10/dist-packages/sklearn/model_selection/_split.py:700: UserWarning: The least populated class in y has only 5 members, which is less than n_splits=10.\n",
            "  warnings.warn(\n",
            "/usr/local/lib/python3.10/dist-packages/sklearn/model_selection/_split.py:700: UserWarning: The least populated class in y has only 5 members, which is less than n_splits=10.\n",
            "  warnings.warn(\n",
            "/usr/local/lib/python3.10/dist-packages/sklearn/model_selection/_split.py:700: UserWarning: The least populated class in y has only 5 members, which is less than n_splits=10.\n",
            "  warnings.warn(\n",
            "/usr/local/lib/python3.10/dist-packages/sklearn/model_selection/_split.py:700: UserWarning: The least populated class in y has only 5 members, which is less than n_splits=10.\n",
            "  warnings.warn(\n",
            "/usr/local/lib/python3.10/dist-packages/sklearn/model_selection/_split.py:700: UserWarning: The least populated class in y has only 5 members, which is less than n_splits=10.\n",
            "  warnings.warn(\n",
            "/usr/local/lib/python3.10/dist-packages/sklearn/model_selection/_split.py:700: UserWarning: The least populated class in y has only 5 members, which is less than n_splits=10.\n",
            "  warnings.warn(\n",
            "/usr/local/lib/python3.10/dist-packages/sklearn/model_selection/_split.py:700: UserWarning: The least populated class in y has only 5 members, which is less than n_splits=10.\n",
            "  warnings.warn(\n",
            "/usr/local/lib/python3.10/dist-packages/sklearn/model_selection/_split.py:700: UserWarning: The least populated class in y has only 5 members, which is less than n_splits=10.\n",
            "  warnings.warn(\n",
            "/usr/local/lib/python3.10/dist-packages/sklearn/model_selection/_split.py:700: UserWarning: The least populated class in y has only 5 members, which is less than n_splits=10.\n",
            "  warnings.warn(\n",
            "/usr/local/lib/python3.10/dist-packages/sklearn/model_selection/_split.py:700: UserWarning: The least populated class in y has only 5 members, which is less than n_splits=10.\n",
            "  warnings.warn(\n",
            "/usr/local/lib/python3.10/dist-packages/sklearn/model_selection/_split.py:700: UserWarning: The least populated class in y has only 5 members, which is less than n_splits=10.\n",
            "  warnings.warn(\n",
            "/usr/local/lib/python3.10/dist-packages/sklearn/model_selection/_split.py:700: UserWarning: The least populated class in y has only 5 members, which is less than n_splits=10.\n",
            "  warnings.warn(\n",
            "/usr/local/lib/python3.10/dist-packages/sklearn/model_selection/_split.py:700: UserWarning: The least populated class in y has only 5 members, which is less than n_splits=10.\n",
            "  warnings.warn(\n",
            "/usr/local/lib/python3.10/dist-packages/sklearn/model_selection/_split.py:700: UserWarning: The least populated class in y has only 5 members, which is less than n_splits=10.\n",
            "  warnings.warn(\n",
            "/usr/local/lib/python3.10/dist-packages/sklearn/model_selection/_split.py:700: UserWarning: The least populated class in y has only 5 members, which is less than n_splits=10.\n",
            "  warnings.warn(\n",
            "/usr/local/lib/python3.10/dist-packages/sklearn/model_selection/_split.py:700: UserWarning: The least populated class in y has only 5 members, which is less than n_splits=10.\n",
            "  warnings.warn(\n",
            "/usr/local/lib/python3.10/dist-packages/sklearn/model_selection/_split.py:700: UserWarning: The least populated class in y has only 5 members, which is less than n_splits=10.\n",
            "  warnings.warn(\n"
          ]
        },
        {
          "output_type": "display_data",
          "data": {
            "text/plain": [
              "<Figure size 640x480 with 0 Axes>"
            ]
          },
          "metadata": {}
        },
        {
          "output_type": "display_data",
          "data": {
            "text/plain": [
              "<Figure size 1500x1000 with 1 Axes>"
            ],
            "image/png": "[encoded data removed]"
          },
          "metadata": {}
        }
      ]
    },
    {
      "cell_type": "code",
      "source": [
        "# finding best k\n",
        "best_k = k_list[MSE.index(min(MSE))]\n",
        "print(\"The optimal number of neighbors is %d.\" % best_k)"
      ],
      "metadata": {
        "colab": {
          "base_uri": "https://localhost:8080/"
        },
        "id": "bhBjr8Lg1vHE",
        "outputId": "0b2e45ff-72d6-46e3-9873-c2c6720fcbba"
      },
      "id": "bhBjr8Lg1vHE",
      "execution_count": 235,
      "outputs": [
        {
          "output_type": "stream",
          "name": "stdout",
          "text": [
            "The optimal number of neighbors is 1.\n"
          ]
        }
      ]
    },
    {
      "cell_type": "markdown",
      "source": [
        "### DecisionTreeClassifier"
      ],
      "metadata": {
        "id": "vBKDwqeX2Jyi"
      },
      "id": "vBKDwqeX2Jyi"
    },
    {
      "cell_type": "code",
      "source": [
        "from sklearn.tree import DecisionTreeClassifier\n",
        "from sklearn.model_selection import GridSearchCV\n",
        "# Create a Decision Tree classifier\n",
        "tree = DecisionTreeClassifier()\n",
        "\n",
        "# Define the hyperparameters grid for grid search\n",
        "param_grid = {\n",
        "    'criterion': ['gini', 'entropy'],\n",
        "    'max_depth': [None, 5, 10, 15, 20],\n",
        "    'min_samples_split': [2, 3, 4, 5, 6, 7, 8, 9, 10],\n",
        "    'min_samples_leaf': [1, 2, 3, 4, 5, 6, 7, 8, 9, 10],\n",
        "}\n",
        "\n",
        "# Perform grid search to find the best hyperparameters\n",
        "grid_search = GridSearchCV(tree, param_grid, cv=5)\n",
        "grid_search.fit(X_train_normalized, Y_train)\n",
        "\n",
        "# Get the best hyperparameters and corresponding model\n",
        "best_params = grid_search.best_params_\n",
        "best_model = grid_search.best_estimator_\n",
        "\n",
        "# Evaluate the best model on the test set\n",
        "accuracy = best_model.score(X_test_normalized, Y_test)\n",
        "\n",
        "# Print the best hyperparameters and accuracy\n",
        "print(\"Best Hyperparameters:\", best_params)\n",
        "print(\"Accuracy:\", accuracy)"
      ],
      "metadata": {
        "colab": {
          "base_uri": "https://localhost:8080/"
        },
        "id": "392_ujbD2Rbw",
        "outputId": "4df11bde-e62b-4f76-c1ac-ce869d43daa5"
      },
      "id": "392_ujbD2Rbw",
      "execution_count": 237,
      "outputs": [
        {
          "output_type": "stream",
          "name": "stdout",
          "text": [
            "Best Hyperparameters: {'criterion': 'entropy', 'max_depth': 20, 'min_samples_leaf': 1, 'min_samples_split': 2}\n",
            "Accuracy: 0.33251684017146355\n"
          ]
        }
      ]
    },
    {
      "cell_type": "code",
      "source": [
        "decision_tree = DecisionTreeClassifier()\n",
        "decision_tree.fit(X_train_normalized_resampled, Y_train_resampled)\n",
        "\n",
        "y_pred = decision_tree.predict(X_test_normalized_resampled)\n",
        "\n",
        "accuracy = accuracy_score(Y_test, y_pred)*100\n",
        "print('Accuracy of the Decision Tree classifier is equal ' + str(round(accuracy, 2)) + ' %.')"
      ],
      "metadata": {
        "colab": {
          "base_uri": "https://localhost:8080/"
        },
        "id": "2R_4odKN2ndI",
        "outputId": "b7b1f3af-a46a-455e-fa63-b155349d7645"
      },
      "id": "2R_4odKN2ndI",
      "execution_count": 238,
      "outputs": [
        {
          "output_type": "stream",
          "name": "stdout",
          "text": [
            "Accuracy of the Decision Tree classifier is equal 28.84 %.\n"
          ]
        }
      ]
    },
    {
      "cell_type": "code",
      "source": [
        "accuracy_list = cross_val_score(decision_tree, X_train_normalized_resampled, Y_train_resampled, cv=10)\n",
        "print(f'The average accuracy is {(np.mean(accuracy_list)*100).round(2)}%')"
      ],
      "metadata": {
        "colab": {
          "base_uri": "https://localhost:8080/"
        },
        "id": "OQLKXSWH3jWy",
        "outputId": "af4565d3-0366-484f-8503-6b10a31b5c8b"
      },
      "id": "OQLKXSWH3jWy",
      "execution_count": 239,
      "outputs": [
        {
          "output_type": "stream",
          "name": "stdout",
          "text": [
            "The average accuracy is 64.21%\n"
          ]
        }
      ]
    },
    {
      "cell_type": "code",
      "source": [
        "decision_tree = DecisionTreeClassifier()\n",
        "decision_tree.fit(X_train_normalized, Y_train)\n",
        "\n",
        "y_pred = decision_tree.predict(X_test_normalized)\n",
        "\n",
        "accuracy = accuracy_score(Y_test, y_pred)*100\n",
        "print('Accuracy of the Decision Tree classifier is equal ' + str(round(accuracy, 2)) + ' %.')"
      ],
      "metadata": {
        "colab": {
          "base_uri": "https://localhost:8080/"
        },
        "id": "NT0_ktPX3mhN",
        "outputId": "a0b954d3-9a4b-431f-f65e-72062d2f098a"
      },
      "id": "NT0_ktPX3mhN",
      "execution_count": 240,
      "outputs": [
        {
          "output_type": "stream",
          "name": "stdout",
          "text": [
            "Accuracy of the Decision Tree classifier is equal 33.37 %.\n"
          ]
        }
      ]
    },
    {
      "cell_type": "code",
      "source": [
        "accuracy_list = cross_val_score(decision_tree, X_train_normalized, Y_train, cv=10)\n",
        "print(f'The average accuracy is {(np.mean(accuracy_list)*100).round(2)}%')"
      ],
      "metadata": {
        "colab": {
          "base_uri": "https://localhost:8080/"
        },
        "id": "BEynTWOA3vpu",
        "outputId": "f7af652f-573a-4d28-a458-da76f604416c"
      },
      "id": "BEynTWOA3vpu",
      "execution_count": 241,
      "outputs": [
        {
          "output_type": "stream",
          "name": "stderr",
          "text": [
            "/usr/local/lib/python3.10/dist-packages/sklearn/model_selection/_split.py:700: UserWarning: The least populated class in y has only 5 members, which is less than n_splits=10.\n",
            "  warnings.warn(\n"
          ]
        },
        {
          "output_type": "stream",
          "name": "stdout",
          "text": [
            "The average accuracy is 55.41%\n"
          ]
        }
      ]
    },
    {
      "cell_type": "code",
      "source": [
        "decision_tree = DecisionTreeClassifier()\n",
        "decision_tree.fit(X_train, Y_train)\n",
        "\n",
        "y_pred = decision_tree.predict(X_test)\n",
        "\n",
        "accuracy = accuracy_score(Y_test, y_pred)*100\n",
        "print('Accuracy of the Decision Tree classifier is equal ' + str(round(accuracy, 2)) + ' %.')"
      ],
      "metadata": {
        "colab": {
          "base_uri": "https://localhost:8080/"
        },
        "id": "mJTEw7Ov8gUo",
        "outputId": "90c69678-bb9a-43a0-c0b3-f44cf6ac90da"
      },
      "id": "mJTEw7Ov8gUo",
      "execution_count": 242,
      "outputs": [
        {
          "output_type": "stream",
          "name": "stdout",
          "text": [
            "Accuracy of the Decision Tree classifier is equal 32.95 %.\n"
          ]
        }
      ]
    },
    {
      "cell_type": "code",
      "source": [
        "accuracy_list = cross_val_score(decision_tree, X_train, Y_train, cv=10)\n",
        "print(f'The average accuracy is {(np.mean(accuracy_list)*100).round(2)}%')"
      ],
      "metadata": {
        "colab": {
          "base_uri": "https://localhost:8080/"
        },
        "id": "3pyHBZIB8tr8",
        "outputId": "d136337c-b3f5-4a80-d652-eedba4138727"
      },
      "id": "3pyHBZIB8tr8",
      "execution_count": 244,
      "outputs": [
        {
          "output_type": "stream",
          "name": "stderr",
          "text": [
            "/usr/local/lib/python3.10/dist-packages/sklearn/model_selection/_split.py:700: UserWarning: The least populated class in y has only 5 members, which is less than n_splits=10.\n",
            "  warnings.warn(\n"
          ]
        },
        {
          "output_type": "stream",
          "name": "stdout",
          "text": [
            "The average accuracy is 56.48%\n"
          ]
        }
      ]
    },
    {
      "cell_type": "markdown",
      "source": [
        "### Logistic Regression Model"
      ],
      "metadata": {
        "id": "97wTW0G_qrAr"
      },
      "id": "97wTW0G_qrAr"
    },
    {
      "cell_type": "code",
      "source": [
        "from sklearn.linear_model import LogisticRegression\n",
        "\n",
        "# Instantiate the logistic regression classifier\n",
        "logreg = LogisticRegression()\n",
        "\n",
        "# Fit the classifier to the training data\n",
        "logreg.fit(X_train_normalized_resampled, Y_train_resampled)\n",
        "\n",
        "# Predict on the test data\n",
        "y_pred = logreg.predict(X_test_normalized_resampled)\n",
        "\n",
        "# Calculate the accuracy score\n",
        "accuracy = accuracy_score(Y_test, y_pred)\n",
        "\n",
        "# Print the accuracy score\n",
        "print(\"Accuracy:\", accuracy)"
      ],
      "metadata": {
        "colab": {
          "base_uri": "https://localhost:8080/"
        },
        "id": "JVuRnZyx4xfl",
        "outputId": "6aa37690-afaf-4344-8b0b-fe2ba8400c88"
      },
      "id": "JVuRnZyx4xfl",
      "execution_count": 245,
      "outputs": [
        {
          "output_type": "stream",
          "name": "stdout",
          "text": [
            "Accuracy: 0.32761788120024493\n"
          ]
        },
        {
          "output_type": "stream",
          "name": "stderr",
          "text": [
            "/usr/local/lib/python3.10/dist-packages/sklearn/linear_model/_logistic.py:458: ConvergenceWarning: lbfgs failed to converge (status=1):\n",
            "STOP: TOTAL NO. of ITERATIONS REACHED LIMIT.\n",
            "\n",
            "Increase the number of iterations (max_iter) or scale the data as shown in:\n",
            "    https://scikit-learn.org/stable/modules/preprocessing.html\n",
            "Please also refer to the documentation for alternative solver options:\n",
            "    https://scikit-learn.org/stable/modules/linear_model.html#logistic-regression\n",
            "  n_iter_i = _check_optimize_result(\n"
          ]
        }
      ]
    },
    {
      "cell_type": "code",
      "source": [
        "from sklearn.linear_model import LogisticRegression\n",
        "\n",
        "# Instantiate the logistic regression classifier\n",
        "logreg = LogisticRegression()\n",
        "\n",
        "# Fit the classifier to the training data\n",
        "logreg.fit(X_train_normalized, Y_train)\n",
        "\n",
        "# Predict on the test data\n",
        "y_pred = logreg.predict(X_test_normalized)\n",
        "\n",
        "# Calculate the accuracy score\n",
        "accuracy = accuracy_score(Y_test, y_pred)\n",
        "\n",
        "# Print the accuracy score\n",
        "print(\"Accuracy:\", accuracy)"
      ],
      "metadata": {
        "colab": {
          "base_uri": "https://localhost:8080/"
        },
        "id": "TiRBX5MY85BO",
        "outputId": "7884174e-f295-4666-d267-5cf2e15a5dc9"
      },
      "id": "TiRBX5MY85BO",
      "execution_count": 246,
      "outputs": [
        {
          "output_type": "stream",
          "name": "stdout",
          "text": [
            "Accuracy: 0.4280465401102266\n"
          ]
        },
        {
          "output_type": "stream",
          "name": "stderr",
          "text": [
            "/usr/local/lib/python3.10/dist-packages/sklearn/linear_model/_logistic.py:458: ConvergenceWarning: lbfgs failed to converge (status=1):\n",
            "STOP: TOTAL NO. of ITERATIONS REACHED LIMIT.\n",
            "\n",
            "Increase the number of iterations (max_iter) or scale the data as shown in:\n",
            "    https://scikit-learn.org/stable/modules/preprocessing.html\n",
            "Please also refer to the documentation for alternative solver options:\n",
            "    https://scikit-learn.org/stable/modules/linear_model.html#logistic-regression\n",
            "  n_iter_i = _check_optimize_result(\n"
          ]
        }
      ]
    },
    {
      "cell_type": "code",
      "source": [
        "from sklearn.linear_model import LogisticRegression\n",
        "\n",
        "# Instantiate the logistic regression classifier\n",
        "logreg = LogisticRegression()\n",
        "\n",
        "# Fit the classifier to the training data\n",
        "logreg.fit(X_train, Y_train)\n",
        "\n",
        "# Predict on the test data\n",
        "y_pred = logreg.predict(X_test)\n",
        "\n",
        "# Calculate the accuracy score\n",
        "accuracy = accuracy_score(Y_test, y_pred)\n",
        "\n",
        "# Print the accuracy score\n",
        "print(\"Accuracy:\", accuracy)"
      ],
      "metadata": {
        "colab": {
          "base_uri": "https://localhost:8080/"
        },
        "id": "yT-gJjGb9HIu",
        "outputId": "9902f3cb-bb50-4d7c-f695-0d8cc4e1c9d6"
      },
      "id": "yT-gJjGb9HIu",
      "execution_count": 247,
      "outputs": [
        {
          "output_type": "stream",
          "name": "stdout",
          "text": [
            "Accuracy: 0.40967544396815675\n"
          ]
        },
        {
          "output_type": "stream",
          "name": "stderr",
          "text": [
            "/usr/local/lib/python3.10/dist-packages/sklearn/linear_model/_logistic.py:458: ConvergenceWarning: lbfgs failed to converge (status=1):\n",
            "STOP: TOTAL NO. of ITERATIONS REACHED LIMIT.\n",
            "\n",
            "Increase the number of iterations (max_iter) or scale the data as shown in:\n",
            "    https://scikit-learn.org/stable/modules/preprocessing.html\n",
            "Please also refer to the documentation for alternative solver options:\n",
            "    https://scikit-learn.org/stable/modules/linear_model.html#logistic-regression\n",
            "  n_iter_i = _check_optimize_result(\n"
          ]
        }
      ]
    },
    {
      "cell_type": "code",
      "source": [
        "# df1 = pd.read_csv('239321L_lab1_train.csv')\n",
        "# df2 = pd.read_csv('239321L_lab1_test.csv')\n",
        "# df3 = pd.read_csv('expected.csv')\n",
        "X_train.to_csv('/content/drive/MyDrive/ColabNotebooks/UoM_ML/Lab01/239321L_lab1_train.csv')\n",
        "X_test.to_csv('/content/drive/MyDrive/ColabNotebooks/UoM_ML/Lab01/239321L_lab1_test.csv')\n"
      ],
      "metadata": {
        "id": "t5HzPcgOg_Z8"
      },
      "id": "t5HzPcgOg_Z8",
      "execution_count": 249,
      "outputs": []
    }
  ],
  "metadata": {
    "kernelspec": {
      "display_name": "Python 3",
      "language": "python",
      "name": "python3"
    },
    "language_info": {
      "codemirror_mode": {
        "name": "ipython",
        "version": 3
      },
      "file_extension": ".py",
      "mimetype": "text/x-python",
      "name": "python",
      "nbconvert_exporter": "python",
      "pygments_lexer": "ipython3",
      "version": "3.8.11"
    },
    "colab": {
      "provenance": [],
      "toc_visible": true
    }
  },
  "nbformat": 4,
  "nbformat_minor": 5
}